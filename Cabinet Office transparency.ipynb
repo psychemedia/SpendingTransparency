{
 "cells": [
  {
   "cell_type": "markdown",
   "metadata": {},
   "source": [
    "# Transparency / Spending Slide Explorer\n",
    "\n",
    "Testing a recipe for generating 1.5D slide show summaries of transparency spending data, as accounting for eg 80% of spend in each particular area."
   ]
  },
  {
   "cell_type": "code",
   "execution_count": 1,
   "metadata": {
    "collapsed": false
   },
   "outputs": [
    {
     "name": "stdout",
     "output_type": "stream",
     "text": [
      "--2017-01-23 14:50:53--  http://www.datadaptive.com/misc/CO_SPEND_201004_201611.xlsx\n",
      "Resolving www.datadaptive.com... 192.185.39.75\n",
      "Connecting to www.datadaptive.com|192.185.39.75|:80... connected.\n",
      "HTTP request sent, awaiting response... 200 OK\n",
      "Length: 952091 (930K) [application/vnd.openxmlformats-officedocument.spreadsheetml.sheet]\n",
      "Saving to: 'data/CO_SPEND_201004_201611.xlsx.6'\n",
      "\n",
      "CO_SPEND_201004_201 100%[=====================>] 929.78K   466KB/s   in 2.0s   \n",
      "\n",
      "2017-01-23 14:50:55 (466 KB/s) - 'data/CO_SPEND_201004_201611.xlsx.6' saved [952091/952091]\n",
      "\n"
     ]
    }
   ],
   "source": [
    "#Download transparency spending data file\n",
    "#In this case, h/t @owenboswarva\n",
    "url='http://www.datadaptive.com/misc/CO_SPEND_201004_201611.xlsx'\n",
    "#!wget -P data/ $url"
   ]
  },
  {
   "cell_type": "code",
   "execution_count": 2,
   "metadata": {
    "collapsed": true
   },
   "outputs": [],
   "source": [
    "#Use the pandas package form wrangling tabular data\n",
    "import pandas as pd"
   ]
  },
  {
   "cell_type": "code",
   "execution_count": 3,
   "metadata": {
    "collapsed": false
   },
   "outputs": [
    {
     "data": {
      "text/html": [
       "<div>\n",
       "<table border=\"1\" class=\"dataframe\">\n",
       "  <thead>\n",
       "    <tr style=\"text-align: right;\">\n",
       "      <th></th>\n",
       "      <th>Departmental Family</th>\n",
       "      <th>Entity</th>\n",
       "      <th>Date</th>\n",
       "      <th>Expense Type</th>\n",
       "      <th>Expense Area</th>\n",
       "      <th>Supplier</th>\n",
       "      <th>Transaction Number</th>\n",
       "      <th>Amount £</th>\n",
       "      <th>Description</th>\n",
       "      <th>Supplier Postcode</th>\n",
       "      <th>Supplier Type</th>\n",
       "      <th>Expenditure Type</th>\n",
       "    </tr>\n",
       "  </thead>\n",
       "  <tbody>\n",
       "    <tr>\n",
       "      <th>0</th>\n",
       "      <td>Cabinet Office</td>\n",
       "      <td>CABINET OFFICE</td>\n",
       "      <td>2010-04-01</td>\n",
       "      <td>Other Staff Related Costs</td>\n",
       "      <td>CIVIL SERVICE CAPABILITY GROUP</td>\n",
       "      <td>PARITY SOLUTIONS LTD</td>\n",
       "      <td>3000009169</td>\n",
       "      <td>75416.35</td>\n",
       "      <td>Fast Stream Recruitment</td>\n",
       "      <td>NaN</td>\n",
       "      <td>NaN</td>\n",
       "      <td>NaN</td>\n",
       "    </tr>\n",
       "    <tr>\n",
       "      <th>1</th>\n",
       "      <td>Cabinet Office</td>\n",
       "      <td>CABINET OFFICE</td>\n",
       "      <td>2010-04-01</td>\n",
       "      <td>Consultancy</td>\n",
       "      <td>CIVIL SERVICE PENSIONS</td>\n",
       "      <td>DELOITTE MCS LTD</td>\n",
       "      <td>3000009144</td>\n",
       "      <td>31530.25</td>\n",
       "      <td>Professional Services: Programme support work ...</td>\n",
       "      <td>NaN</td>\n",
       "      <td>NaN</td>\n",
       "      <td>NaN</td>\n",
       "    </tr>\n",
       "    <tr>\n",
       "      <th>2</th>\n",
       "      <td>Cabinet Office</td>\n",
       "      <td>CABINET OFFICE</td>\n",
       "      <td>2010-04-01</td>\n",
       "      <td>Supplies and Services</td>\n",
       "      <td>CO SHARED SERVICES</td>\n",
       "      <td>DWP NORCROSS</td>\n",
       "      <td>3000009146</td>\n",
       "      <td>133333.33</td>\n",
       "      <td>Provision of Accountancy Services, Employee Se...</td>\n",
       "      <td>NaN</td>\n",
       "      <td>NaN</td>\n",
       "      <td>NaN</td>\n",
       "    </tr>\n",
       "  </tbody>\n",
       "</table>\n",
       "</div>"
      ],
      "text/plain": [
       "  Departmental Family          Entity       Date               Expense Type  \\\n",
       "0      Cabinet Office  CABINET OFFICE 2010-04-01  Other Staff Related Costs   \n",
       "1      Cabinet Office  CABINET OFFICE 2010-04-01                Consultancy   \n",
       "2      Cabinet Office  CABINET OFFICE 2010-04-01      Supplies and Services   \n",
       "\n",
       "                     Expense Area              Supplier Transaction Number  \\\n",
       "0  CIVIL SERVICE CAPABILITY GROUP  PARITY SOLUTIONS LTD         3000009169   \n",
       "1          CIVIL SERVICE PENSIONS      DELOITTE MCS LTD         3000009144   \n",
       "2              CO SHARED SERVICES          DWP NORCROSS         3000009146   \n",
       "\n",
       "    Amount £                                        Description  \\\n",
       "0   75416.35                            Fast Stream Recruitment   \n",
       "1   31530.25  Professional Services: Programme support work ...   \n",
       "2  133333.33  Provision of Accountancy Services, Employee Se...   \n",
       "\n",
       "  Supplier Postcode Supplier Type Expenditure Type  \n",
       "0               NaN           NaN              NaN  \n",
       "1               NaN           NaN              NaN  \n",
       "2               NaN           NaN              NaN  "
      ]
     },
     "execution_count": 3,
     "metadata": {},
     "output_type": "execute_result"
    }
   ],
   "source": [
    "#Read in the data file and do a bit of cleaning\n",
    "df=pd.read_excel('data/{}'.format(url.split('/')[-1]), thousands=',')\n",
    "df.head(3)"
   ]
  },
  {
   "cell_type": "code",
   "execution_count": 4,
   "metadata": {
    "collapsed": true
   },
   "outputs": [],
   "source": [
    "#DATA SETTINGS\n",
    "datecol='Date'\n",
    "\n",
    "org='Cabinet Office'\n",
    "\n",
    "#The following settings are used to define columns that chunk the report\n",
    "top='Entity' #A high level split - eg capital vs revenue\n",
    "amount='Amount £' #The spending amount column\n",
    "majordivision='Description' #Major grouping eg council directorate\n",
    "supplier='Supplier' #The supplier name column\n",
    "repTyps=['Expense Type','Expense Area'] #column groupings to generate supplier reports form"
   ]
  },
  {
   "cell_type": "code",
   "execution_count": 5,
   "metadata": {
    "collapsed": true
   },
   "outputs": [],
   "source": [
    "#USER SETTINGS\n",
    "\n",
    "\n",
    "#Report period - for now, focus on monthly reporting\n",
    "year=2016\n",
    "month=9\n",
    "\n",
    "#One of the aims of the report is to be able to account for eg 80% of the spend.\n",
    "#(Pareto principle sugggests this will be covered by eg 20% of contributors.)\n",
    "#Eg report that accounts for eg 80% of total spend, plus any items that account for more than 10% of total\n",
    "accountForPC=80\n",
    "hedgebetsPC=0\n",
    "minPC=10"
   ]
  },
  {
   "cell_type": "code",
   "execution_count": 6,
   "metadata": {
    "collapsed": true
   },
   "outputs": [],
   "source": [
    "##TRY TO MAKE EVERYTHING BELOW HERE ABSTRACT"
   ]
  },
  {
   "cell_type": "code",
   "execution_count": 7,
   "metadata": {
    "collapsed": false
   },
   "outputs": [
    {
     "data": {
      "text/html": [
       "<div>\n",
       "<table border=\"1\" class=\"dataframe\">\n",
       "  <thead>\n",
       "    <tr style=\"text-align: right;\">\n",
       "      <th></th>\n",
       "      <th>Departmental Family</th>\n",
       "      <th>Entity</th>\n",
       "      <th>Date</th>\n",
       "      <th>Expense Type</th>\n",
       "      <th>Expense Area</th>\n",
       "      <th>Supplier</th>\n",
       "      <th>Transaction Number</th>\n",
       "      <th>Amount £</th>\n",
       "      <th>Description</th>\n",
       "      <th>Supplier Postcode</th>\n",
       "      <th>Supplier Type</th>\n",
       "      <th>Expenditure Type</th>\n",
       "    </tr>\n",
       "  </thead>\n",
       "  <tbody>\n",
       "    <tr>\n",
       "      <th>0</th>\n",
       "      <td>Cabinet Office</td>\n",
       "      <td>CABINET OFFICE</td>\n",
       "      <td>2010-04-01</td>\n",
       "      <td>Other Staff Related Costs</td>\n",
       "      <td>CIVIL SERVICE CAPABILITY GROUP</td>\n",
       "      <td>PARITY SOLUTIONS LTD</td>\n",
       "      <td>3000009169</td>\n",
       "      <td>75416.35</td>\n",
       "      <td>Fast Stream Recruitment</td>\n",
       "      <td>nan</td>\n",
       "      <td>nan</td>\n",
       "      <td>nan</td>\n",
       "    </tr>\n",
       "    <tr>\n",
       "      <th>1</th>\n",
       "      <td>Cabinet Office</td>\n",
       "      <td>CABINET OFFICE</td>\n",
       "      <td>2010-04-01</td>\n",
       "      <td>Consultancy</td>\n",
       "      <td>CIVIL SERVICE PENSIONS</td>\n",
       "      <td>DELOITTE MCS LTD</td>\n",
       "      <td>3000009144</td>\n",
       "      <td>31530.25</td>\n",
       "      <td>Professional Services: Programme support work ...</td>\n",
       "      <td>nan</td>\n",
       "      <td>nan</td>\n",
       "      <td>nan</td>\n",
       "    </tr>\n",
       "    <tr>\n",
       "      <th>2</th>\n",
       "      <td>Cabinet Office</td>\n",
       "      <td>CABINET OFFICE</td>\n",
       "      <td>2010-04-01</td>\n",
       "      <td>Supplies and Services</td>\n",
       "      <td>CO SHARED SERVICES</td>\n",
       "      <td>DWP NORCROSS</td>\n",
       "      <td>3000009146</td>\n",
       "      <td>133333.33</td>\n",
       "      <td>Provision of Accountancy Services, Employee Se...</td>\n",
       "      <td>nan</td>\n",
       "      <td>nan</td>\n",
       "      <td>nan</td>\n",
       "    </tr>\n",
       "  </tbody>\n",
       "</table>\n",
       "</div>"
      ],
      "text/plain": [
       "  Departmental Family          Entity       Date               Expense Type  \\\n",
       "0      Cabinet Office  CABINET OFFICE 2010-04-01  Other Staff Related Costs   \n",
       "1      Cabinet Office  CABINET OFFICE 2010-04-01                Consultancy   \n",
       "2      Cabinet Office  CABINET OFFICE 2010-04-01      Supplies and Services   \n",
       "\n",
       "                     Expense Area              Supplier Transaction Number  \\\n",
       "0  CIVIL SERVICE CAPABILITY GROUP  PARITY SOLUTIONS LTD         3000009169   \n",
       "1          CIVIL SERVICE PENSIONS      DELOITTE MCS LTD         3000009144   \n",
       "2              CO SHARED SERVICES          DWP NORCROSS         3000009146   \n",
       "\n",
       "    Amount £                                        Description  \\\n",
       "0   75416.35                            Fast Stream Recruitment   \n",
       "1   31530.25  Professional Services: Programme support work ...   \n",
       "2  133333.33  Provision of Accountancy Services, Employee Se...   \n",
       "\n",
       "  Supplier Postcode Supplier Type Expenditure Type  \n",
       "0               nan           nan              nan  \n",
       "1               nan           nan              nan  \n",
       "2               nan           nan              nan  "
      ]
     },
     "execution_count": 7,
     "metadata": {},
     "output_type": "execute_result"
    }
   ],
   "source": [
    "#Quick clean\n",
    "for col in df.columns:\n",
    "    #Pandas natively has 'O' (object) type for string columns\n",
    "    if col==amount:\n",
    "        df[amount]=df[amount].astype(float)\n",
    "    else:\n",
    "        df[col]=df[col].astype(str)\n",
    "        df[col]=df[col].str.strip()\n",
    "    if col==datecol:\n",
    "        df[datecol]=pd.to_datetime(df[datecol])\n",
    "df.head(3)"
   ]
  },
  {
   "cell_type": "code",
   "execution_count": 8,
   "metadata": {
    "collapsed": false
   },
   "outputs": [
    {
     "data": {
      "text/html": [
       "<div>\n",
       "<table border=\"1\" class=\"dataframe\">\n",
       "  <thead>\n",
       "    <tr style=\"text-align: right;\">\n",
       "      <th></th>\n",
       "      <th>Departmental Family</th>\n",
       "      <th>Entity</th>\n",
       "      <th>Date</th>\n",
       "      <th>Expense Type</th>\n",
       "      <th>Expense Area</th>\n",
       "      <th>Supplier</th>\n",
       "      <th>Transaction Number</th>\n",
       "      <th>Amount £</th>\n",
       "      <th>Description</th>\n",
       "      <th>Supplier Postcode</th>\n",
       "      <th>Supplier Type</th>\n",
       "      <th>Expenditure Type</th>\n",
       "    </tr>\n",
       "  </thead>\n",
       "  <tbody>\n",
       "    <tr>\n",
       "      <th>11557</th>\n",
       "      <td>CABINET OFFICE</td>\n",
       "      <td>CABINET OFFICE</td>\n",
       "      <td>2016-09-01</td>\n",
       "      <td>PROFESSIONAL ADVICE &amp; OPINION VAT RECOVERABLE</td>\n",
       "      <td>HUB MEMPHIS</td>\n",
       "      <td>EVERSHEDS LLP</td>\n",
       "      <td>3000075785</td>\n",
       "      <td>70000.00</td>\n",
       "      <td>PROFESSIONAL PROPERTY ADVICE</td>\n",
       "      <td>nan</td>\n",
       "      <td>nan</td>\n",
       "      <td>nan</td>\n",
       "    </tr>\n",
       "    <tr>\n",
       "      <th>11558</th>\n",
       "      <td>CABINET OFFICE</td>\n",
       "      <td>CABINET OFFICE</td>\n",
       "      <td>2016-09-01</td>\n",
       "      <td>SERVICE PAYMENTS</td>\n",
       "      <td>STERIA SHARED SERVICES</td>\n",
       "      <td>SHARED SERVICES CONNECTED LTD</td>\n",
       "      <td>3000075788</td>\n",
       "      <td>476500.34</td>\n",
       "      <td>SERVICE PAYMENT</td>\n",
       "      <td>nan</td>\n",
       "      <td>nan</td>\n",
       "      <td>nan</td>\n",
       "    </tr>\n",
       "  </tbody>\n",
       "</table>\n",
       "</div>"
      ],
      "text/plain": [
       "      Departmental Family          Entity       Date  \\\n",
       "11557      CABINET OFFICE  CABINET OFFICE 2016-09-01   \n",
       "11558      CABINET OFFICE  CABINET OFFICE 2016-09-01   \n",
       "\n",
       "                                        Expense Type            Expense Area  \\\n",
       "11557  PROFESSIONAL ADVICE & OPINION VAT RECOVERABLE             HUB MEMPHIS   \n",
       "11558                               SERVICE PAYMENTS  STERIA SHARED SERVICES   \n",
       "\n",
       "                            Supplier Transaction Number   Amount £  \\\n",
       "11557                  EVERSHEDS LLP         3000075785   70000.00   \n",
       "11558  SHARED SERVICES CONNECTED LTD         3000075788  476500.34   \n",
       "\n",
       "                        Description Supplier Postcode Supplier Type  \\\n",
       "11557  PROFESSIONAL PROPERTY ADVICE               nan           nan   \n",
       "11558               SERVICE PAYMENT               nan           nan   \n",
       "\n",
       "      Expenditure Type  \n",
       "11557              nan  \n",
       "11558              nan  "
      ]
     },
     "execution_count": 8,
     "metadata": {},
     "output_type": "execute_result"
    }
   ],
   "source": [
    "#Generate reporting period dataset\n",
    "df_base=df[(df[datecol].dt.year==year) & (df[datecol].dt.month==month)]\n",
    "df_base=df_base.dropna(axis=1,how='all')\n",
    "df_base.head(2)"
   ]
  },
  {
   "cell_type": "raw",
   "metadata": {},
   "source": [
    "#Stub for popping data into SQLite3 database\n",
    "#SQLite is a file based SQL database included in the Python distribution\n",
    "import sqlite3\n",
    "\n",
    "#Create a connection to the database\n",
    "con = sqlite3.connect(\"cabOffice_full.sqlite\")\n",
    "\n",
    "df.to_sql(con=con,name='full',index=False, if_exists='replace')"
   ]
  },
  {
   "cell_type": "markdown",
   "metadata": {},
   "source": [
    "## Generate Slide Deck\n",
    "\n",
    "Slide deck is generated using Jupyter notebook (slide format) as an intermediate representation and then generating *reveal.js* slide deck from that.\n",
    "\n",
    "More info: [A Recipe for Automatically Going From Data to Text to Reveal.js Slides](https://blog.ouseful.info/2017/01/20/a-recipe-for-automatically-going-from-data-to-text-to-reveal-js-slides/)."
   ]
  },
  {
   "cell_type": "code",
   "execution_count": 9,
   "metadata": {
    "collapsed": true
   },
   "outputs": [],
   "source": [
    "import nbformat as nb\n",
    "import nbformat.v4.nbbase as nb4\n",
    "\n",
    "def addSlideComponent(notebook, content, styp=''):\n",
    "    ''' Function to add a slide component to a slide notebook '''\n",
    "    if styp in ['slide','fragment','subslide']: styp= {\"slideshow\": {\"slide_type\": styp }}\n",
    "    else: styp={}\n",
    "    notebook.cells.append(nb4.new_markdown_cell(content, metadata=styp))"
   ]
  },
  {
   "cell_type": "markdown",
   "metadata": {},
   "source": [
    "### Formatting Helper Functions"
   ]
  },
  {
   "cell_type": "code",
   "execution_count": 10,
   "metadata": {
    "collapsed": true
   },
   "outputs": [],
   "source": [
    "def fa(amount):\n",
    "    ''' Format a cash amount '''\n",
    "    return \"£{:,.2f}\".format(amount)\n",
    "\n",
    "def fpc(amount):\n",
    "    ''' Format a percentage '''\n",
    "    return \"{:.2f}%\".format(amount)"
   ]
  },
  {
   "cell_type": "markdown",
   "metadata": {},
   "source": [
    "### Reporting Helper Functions"
   ]
  },
  {
   "cell_type": "markdown",
   "metadata": {},
   "source": [
    "One of the aims of the report is to be able to account for eg 80% of the spend. (Pareto principle sugggests this will be covered by eg 20% of contributors.)"
   ]
  },
  {
   "cell_type": "code",
   "execution_count": 11,
   "metadata": {
    "collapsed": true
   },
   "outputs": [],
   "source": [
    "def paretoXY(s, x, y,threshold=0):\n",
    "    ''' Return a list until you account for X% of the whole and remainders are less than Y% individually.\n",
    "        The threshold percentage allows you to hedge your bets and check items just past the treshold. '''\n",
    "    #Generate percentages, and sort, and find accumulated total\n",
    "    #Note that there may be negative payments which means the cumulative percentage can go > 100%\n",
    "    df=pd.DataFrame( s[s>0].sort_values(ascending=False) )\n",
    "    df['pc']= 100*s/s.sum()\n",
    "    df['cum_pc']=df['pc'].cumsum()\n",
    "    #Threshold\n",
    "    return df[ (df['cum_pc']-df['pc'] <= x+ x*threshold/100) | (df['pc'] >= y-y*threshold/100) ]"
   ]
  },
  {
   "cell_type": "markdown",
   "metadata": {},
   "source": [
    "### Slide Notebook Generator\n",
    "\n",
    "Routines for automatically constructing the intermediate slide notebook."
   ]
  },
  {
   "cell_type": "code",
   "execution_count": 12,
   "metadata": {
    "collapsed": false
   },
   "outputs": [],
   "source": [
    "test=nb4.new_notebook()"
   ]
  },
  {
   "cell_type": "code",
   "execution_count": 13,
   "metadata": {
    "collapsed": true
   },
   "outputs": [],
   "source": [
    "def topGroup(df,top):\n",
    "    return df.groupby(top).sum()"
   ]
  },
  {
   "cell_type": "code",
   "execution_count": 14,
   "metadata": {
    "collapsed": false
   },
   "outputs": [],
   "source": [
    "topgroup=topGroup(df_base,top)\n",
    "\n",
    "overalltotal=topgroup.sum()[amount]"
   ]
  },
  {
   "cell_type": "code",
   "execution_count": 15,
   "metadata": {
    "collapsed": false
   },
   "outputs": [],
   "source": [
    "#INTRO SLIDE\n",
    "addSlideComponent(test, '# {} Monthly Spending Report - {}/{} '.format(org,month,year),'slide')\n",
    "\n",
    "txt1=['The total spend for the month was __{total}__.\\n\\n This was split:\\n'.format(total=fa(overalltotal))]\n",
    "\n",
    "for typ in topgroup.index.values:\n",
    "    txt1.append('- __{typval}__ ({typPC}) on {typ} items\\n'.format(typ=typ,\n",
    "                                                                   typval=fa(topgroup.ix[typ][amount]),\n",
    "                                                                   typPC=fpc(100*topgroup.ix[typ][amount]/topgroup[amount].sum())))\n",
    "\n",
    "addSlideComponent(test, txt1)"
   ]
  },
  {
   "cell_type": "code",
   "execution_count": 16,
   "metadata": {
    "collapsed": false
   },
   "outputs": [],
   "source": [
    "majordivSpend=df_base.groupby(majordivision).sum().sort_values(amount,ascending=False)\n",
    "majordivTopSpend=df_base.groupby([majordivision,top]).sum()\n",
    "\n",
    "totalpc=df_base.pivot_table(index=[majordivision],values=amount,aggfunc=sum).sort_values(ascending=False)\n",
    "totalpc=100*totalpc/totalpc.sum()\n",
    "\n",
    "#Find percentages by top\n",
    "tmp=df_base.pivot_table(index=[majordivision,top],values=amount,aggfunc=sum).sort_values(ascending=False)\n",
    "pc=tmp.groupby(level=0).apply(lambda x: 100*x/float(x.sum()))"
   ]
  },
  {
   "cell_type": "code",
   "execution_count": 17,
   "metadata": {
    "collapsed": false
   },
   "outputs": [],
   "source": [
    "#MAJOR DIVISION SLIDE (VERTICAL STACK)\n",
    "addSlideComponent(test,'## Monthly Spend by {}'.format(majordivision),'slide')\n",
    "\n",
    "addSlideComponent(test,'The spend for each {} was as follows:'.format(majordivision))\n",
    "\n",
    "for x,y in majordivSpend.iterrows():\n",
    "    addSlideComponent(test, '- {}\\n  - total spend: {} ({} of total monthly spend)\\n'.format(x,\n",
    "                                                                                              fa(y[amount]),\n",
    "                                                                                              fpc(totalpc.ix[x])),'fragment')"
   ]
  },
  {
   "cell_type": "code",
   "execution_count": 18,
   "metadata": {
    "collapsed": false
   },
   "outputs": [],
   "source": [
    "#Deeper Dive Grouped by Columns of Interest...\n",
    "for majordiv in majordivSpend.index:\n",
    "    \n",
    "    addSlideComponent(test,'## Major Monthly Spends  - {}'.format(majordiv),'slide')\n",
    "    addSlideComponent(test, 'Total spend: {} ({} of total {} monthly spend)\\n'.format(fa(majordivSpend.ix[majordiv][amount]),\n",
    "                                                                                      fpc(totalpc.ix[majordiv]),\n",
    "                                                                                      org))\n",
    "    for rc in topgroup.index.values:\n",
    "        try:\n",
    "            txt='({} of {} total, {} of {} total)'.format(fpc(pc.ix[majordiv,rc]),majordivision,\n",
    "                                                          fpc(100*majordivTopSpend.ix[majordiv,rc][amount]/overalltotal),\n",
    "                                                          org)\n",
    "            addSlideComponent(test,'- {}: {} {}'.format(rc,\n",
    "                                                         fa(majordivTopSpend.ix[majordiv,rc][amount]),\n",
    "                                                         txt))\n",
    "        except: pass\n",
    "    \n",
    "    for typ in repTyps:\n",
    "        directorateRCTyp=df_base.pivot_table(index=[majordivision,top,typ],\n",
    "                                             values=amount,aggfunc=sum)\n",
    "        \n",
    "        addSlideComponent(test,'## Major Monthly Spend by {}: {}'.format(typ,majordiv),'slide')\n",
    "\n",
    "        for rc in topgroup.index.values:\n",
    "            try:\n",
    "                txt='({} of {} total, {} of {} total)'.format(fpc(pc.ix[majordiv,rc]),majordivision,\n",
    "                                                              fpc(100*majordivTopSpend.ix[majordiv,rc][amount]/overalltotal),\n",
    "                                                              org)\n",
    "                addSlideComponent(test,'### {} {}'.format(rc,txt),'fragment')\n",
    "\n",
    "                thisDirectorateRC=paretoXY(directorateRCTyp.ix[(majordiv,rc)].sort_values(ascending=False),\n",
    "                                                                   accountForPC,\n",
    "                                                                   minPC,\n",
    "                                                                   threshold=hedgebetsPC)\n",
    "\n",
    "                for x,y in thisDirectorateRC.iterrows():\n",
    "                    x=x.strip()\n",
    "                    txt='- {}: {} ({} of corresponding {} {} spend)'.format(x,\n",
    "                                                                                      fa(y[amount]),\n",
    "                                                                                      fpc(y['pc']),majordivision,\n",
    "                                                                                      rc.lower())\n",
    "                    addSlideComponent(test, txt)\n",
    "            except: pass\n",
    "\n",
    "        #Now do subslides for major spend within those areas by supplier\n",
    "        try:\n",
    "            for rc in topgroup.index.values:\n",
    "                thisDirectorateRC=paretoXY(directorateRCTyp.ix[(majordiv,rc)].sort_values(ascending=False),\n",
    "                                                               accountForPC,\n",
    "                                                               minPC,\n",
    "                                                               threshold=hedgebetsPC)\n",
    "                for x,y in thisDirectorateRC.iterrows():\n",
    "                    tmp=df_base[(df_base[majordivision]==majordiv) & (df_base[typ]==x)]\n",
    "                    directorateRCTypSupplier=tmp.pivot_table(index=[top,\n",
    "                                                                              supplier],\n",
    "                                                                       values=amount, aggfunc=sum)\n",
    "                    thisDirectorateRCSupp=paretoXY(directorateRCTypSupplier.ix[rc].sort_values(ascending=False),\n",
    "                                                                   accountForPC,\n",
    "                                                                   minPC,\n",
    "                                                                   threshold=hedgebetsPC)\n",
    "\n",
    "                    addSlideComponent(test,'## {} - {} ({})  Major Suppliers'.format(majordiv,x,rc),'subslide')\n",
    "                    txt='Overall, this {} accounts for __{}__ ({} of corresponding {} {} spend)'.format(typ,fa(y[amount]),\n",
    "                                                                                   fpc(y['pc']),majordivision,\n",
    "                                                                                   rc.lower())\n",
    "                    addSlideComponent(test, txt)\n",
    "\n",
    "                    for p,q in thisDirectorateRCSupp.iterrows():\n",
    "                        p=p.strip()\n",
    "                        txt='- {}: {} ({} of corresponding spend)'.format(p,\n",
    "                                                                          fa(q[amount]),\n",
    "                                                                          fpc(q['pc']))\n",
    "                        addSlideComponent(test, txt)                  \n",
    "        except: pass"
   ]
  },
  {
   "cell_type": "markdown",
   "metadata": {},
   "source": [
    "### Generate Slide Deck and Display via Local Server"
   ]
  },
  {
   "cell_type": "code",
   "execution_count": 19,
   "metadata": {
    "collapsed": false
   },
   "outputs": [
    {
     "name": "stdout",
     "output_type": "stream",
     "text": [
      "[NbConvertApp] Converting notebook testfullslidenotebook_caboffice.ipynb to slides\n",
      "[NbConvertApp] Writing 546115 bytes to testfullslidenotebook_caboffice.slides.html\n",
      "[NbConvertApp] Redirecting reveal.js requests to https://cdnjs.cloudflare.com/ajax/libs/reveal.js/3.1.0\n",
      "Serving your slides at http://127.0.0.1:8000/testfullslidenotebook_caboffice.slides.html\n",
      "Use Control-C to stop this server\n",
      "WARNING:tornado.access:404 GET /custom.css (127.0.0.1) 0.57ms\n",
      "WARNING:tornado.access:404 GET /custom.css (127.0.0.1) 0.88ms\n",
      "^C\n",
      "\n",
      "Interrupted\n"
     ]
    }
   ],
   "source": [
    "nbf='testfullslidenotebook_caboffice.ipynb'\n",
    "nb.write(test,nbf)\n",
    "!jupyter nbconvert $nbf --to slides --post serve"
   ]
  }
 ],
 "metadata": {
  "kernelspec": {
   "display_name": "Python 3",
   "language": "python",
   "name": "python3"
  },
  "language_info": {
   "codemirror_mode": {
    "name": "ipython",
    "version": 3
   },
   "file_extension": ".py",
   "mimetype": "text/x-python",
   "name": "python",
   "nbconvert_exporter": "python",
   "pygments_lexer": "ipython3",
   "version": "3.5.1"
  },
  "widgets": {
   "state": {},
   "version": "1.1.2"
  }
 },
 "nbformat": 4,
 "nbformat_minor": 0
}
