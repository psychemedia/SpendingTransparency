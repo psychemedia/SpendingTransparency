{
 "cells": [
  {
   "cell_type": "markdown",
   "metadata": {
    "slideshow": {
     "slide_type": "slide"
    }
   },
   "source": [
    "# Cabinet Office Monthly Spending Report - 9/2016 "
   ]
  },
  {
   "cell_type": "markdown",
   "metadata": {},
   "source": [
    "The total spend for the month was __£21,109,794.35__.\n\n This was split:\n",
    "- __£18,438,947.62__ (87.35%) on CABINET OFFICE items\n",
    "- __£2,670,846.73__ (12.65%) on CROWN COMMERCIAL SERVICE items\n"
   ]
  },
  {
   "cell_type": "markdown",
   "metadata": {
    "slideshow": {
     "slide_type": "slide"
    }
   },
   "source": [
    "## Monthly Spend by Description"
   ]
  },
  {
   "cell_type": "markdown",
   "metadata": {},
   "source": [
    "The spend for each Description was as follows:"
   ]
  },
  {
   "cell_type": "markdown",
   "metadata": {
    "slideshow": {
     "slide_type": "fragment"
    }
   },
   "source": [
    "- PENSIONS ADMINISTRATION\n",
    "  - total spend: £3,589,936.48 (17.01% of total monthly spend)\n"
   ]
  },
  {
   "cell_type": "markdown",
   "metadata": {
    "slideshow": {
     "slide_type": "fragment"
    }
   },
   "source": [
    "- IT SERVICES\n",
    "  - total spend: £3,329,066.06 (15.77% of total monthly spend)\n"
   ]
  },
  {
   "cell_type": "markdown",
   "metadata": {
    "slideshow": {
     "slide_type": "fragment"
    }
   },
   "source": [
    "- RENT\n",
    "  - total spend: £3,188,411.76 (15.10% of total monthly spend)\n"
   ]
  },
  {
   "cell_type": "markdown",
   "metadata": {
    "slideshow": {
     "slide_type": "fragment"
    }
   },
   "source": [
    "- INTERIM SERVICES\n",
    "  - total spend: £2,209,900.21 (10.47% of total monthly spend)\n"
   ]
  },
  {
   "cell_type": "markdown",
   "metadata": {
    "slideshow": {
     "slide_type": "fragment"
    }
   },
   "source": [
    "- COMMERCIAL ACCELERATOR PROGRAMME INITIATIVES\n",
    "  - total spend: £1,753,375.00 (8.31% of total monthly spend)\n"
   ]
  },
  {
   "cell_type": "markdown",
   "metadata": {
    "slideshow": {
     "slide_type": "fragment"
    }
   },
   "source": [
    "- SERVICE PAYMENT\n",
    "  - total spend: £989,253.80 (4.69% of total monthly spend)\n"
   ]
  },
  {
   "cell_type": "markdown",
   "metadata": {
    "slideshow": {
     "slide_type": "fragment"
    }
   },
   "source": [
    "- TELEPHONE SERVICES\n",
    "  - total spend: £745,992.29 (3.53% of total monthly spend)\n"
   ]
  },
  {
   "cell_type": "markdown",
   "metadata": {
    "slideshow": {
     "slide_type": "fragment"
    }
   },
   "source": [
    "- FACILITIES MANAGEMENT\n",
    "  - total spend: £683,662.24 (3.24% of total monthly spend)\n"
   ]
  },
  {
   "cell_type": "markdown",
   "metadata": {
    "slideshow": {
     "slide_type": "fragment"
    }
   },
   "source": [
    "- LIBRARY SERVICES\n",
    "  - total spend: £523,706.00 (2.48% of total monthly spend)\n"
   ]
  },
  {
   "cell_type": "markdown",
   "metadata": {
    "slideshow": {
     "slide_type": "fragment"
    }
   },
   "source": [
    "- TELEPHONE CHARGES\n",
    "  - total spend: £423,142.44 (2.00% of total monthly spend)\n"
   ]
  },
  {
   "cell_type": "markdown",
   "metadata": {
    "slideshow": {
     "slide_type": "fragment"
    }
   },
   "source": [
    "- IMPLEMENTATION OF INDIVIDUAL ELECTORAL REGISTRATION\n",
    "  - total spend: £363,937.94 (1.72% of total monthly spend)\n"
   ]
  },
  {
   "cell_type": "markdown",
   "metadata": {
    "slideshow": {
     "slide_type": "fragment"
    }
   },
   "source": [
    "- DATA MATCHING SERVICES\n",
    "  - total spend: £353,968.20 (1.68% of total monthly spend)\n"
   ]
  },
  {
   "cell_type": "markdown",
   "metadata": {
    "slideshow": {
     "slide_type": "fragment"
    }
   },
   "source": [
    "- RECRUITMENT AND SELECTION SERVICES\n",
    "  - total spend: £303,150.00 (1.44% of total monthly spend)\n"
   ]
  },
  {
   "cell_type": "markdown",
   "metadata": {
    "slideshow": {
     "slide_type": "fragment"
    }
   },
   "source": [
    "- PROFESSIONAL PROPERTY ADVICE\n",
    "  - total spend: £198,856.00 (0.94% of total monthly spend)\n"
   ]
  },
  {
   "cell_type": "markdown",
   "metadata": {
    "slideshow": {
     "slide_type": "fragment"
    }
   },
   "source": [
    "- PROFESSIONAL PROPERTY ADVICE AND SERVICES\n",
    "  - total spend: £185,561.81 (0.88% of total monthly spend)\n"
   ]
  },
  {
   "cell_type": "markdown",
   "metadata": {
    "slideshow": {
     "slide_type": "fragment"
    }
   },
   "source": [
    "- PROFESSIONAL SERVICES\n",
    "  - total spend: £166,665.37 (0.79% of total monthly spend)\n"
   ]
  },
  {
   "cell_type": "markdown",
   "metadata": {
    "slideshow": {
     "slide_type": "fragment"
    }
   },
   "source": [
    "- RATES\n",
    "  - total spend: £165,921.81 (0.79% of total monthly spend)\n"
   ]
  },
  {
   "cell_type": "markdown",
   "metadata": {
    "slideshow": {
     "slide_type": "fragment"
    }
   },
   "source": [
    "- CUSTOMER RELATIONSHIP MANAGEMENT SYSTEM\n",
    "  - total spend: £165,000.00 (0.78% of total monthly spend)\n"
   ]
  },
  {
   "cell_type": "markdown",
   "metadata": {
    "slideshow": {
     "slide_type": "fragment"
    }
   },
   "source": [
    "- CONSULTANCY\n",
    "  - total spend: £155,972.22 (0.74% of total monthly spend)\n"
   ]
  },
  {
   "cell_type": "markdown",
   "metadata": {
    "slideshow": {
     "slide_type": "fragment"
    }
   },
   "source": [
    "- TELECOMMUNICATIONS SERVICES\n",
    "  - total spend: £155,855.15 (0.74% of total monthly spend)\n"
   ]
  },
  {
   "cell_type": "markdown",
   "metadata": {
    "slideshow": {
     "slide_type": "fragment"
    }
   },
   "source": [
    "- PUBLICITY\n",
    "  - total spend: £150,000.00 (0.71% of total monthly spend)\n"
   ]
  },
  {
   "cell_type": "markdown",
   "metadata": {
    "slideshow": {
     "slide_type": "fragment"
    }
   },
   "source": [
    "- MAINTENANCE SERVICES\n",
    "  - total spend: £150,000.00 (0.71% of total monthly spend)\n"
   ]
  },
  {
   "cell_type": "markdown",
   "metadata": {
    "slideshow": {
     "slide_type": "fragment"
    }
   },
   "source": [
    "- LEGAL SERVICES\n",
    "  - total spend: £142,168.35 (0.67% of total monthly spend)\n"
   ]
  },
  {
   "cell_type": "markdown",
   "metadata": {
    "slideshow": {
     "slide_type": "fragment"
    }
   },
   "source": [
    "- PROFESSIONAL ADVICE\n",
    "  - total spend: £133,093.26 (0.63% of total monthly spend)\n"
   ]
  },
  {
   "cell_type": "markdown",
   "metadata": {
    "slideshow": {
     "slide_type": "fragment"
    }
   },
   "source": [
    "- ESTATES SERVICES\n",
    "  - total spend: £124,663.20 (0.59% of total monthly spend)\n"
   ]
  },
  {
   "cell_type": "markdown",
   "metadata": {
    "slideshow": {
     "slide_type": "fragment"
    }
   },
   "source": [
    "- HEATING SYSTEMS MANAGEMENT\n",
    "  - total spend: £111,858.35 (0.53% of total monthly spend)\n"
   ]
  },
  {
   "cell_type": "markdown",
   "metadata": {
    "slideshow": {
     "slide_type": "fragment"
    }
   },
   "source": [
    "- SECURITY SERVICES\n",
    "  - total spend: £104,750.00 (0.50% of total monthly spend)\n"
   ]
  },
  {
   "cell_type": "markdown",
   "metadata": {
    "slideshow": {
     "slide_type": "fragment"
    }
   },
   "source": [
    "- AUDIT SERVICES\n",
    "  - total spend: £104,253.07 (0.49% of total monthly spend)\n"
   ]
  },
  {
   "cell_type": "markdown",
   "metadata": {
    "slideshow": {
     "slide_type": "fragment"
    }
   },
   "source": [
    "- GRANT\n",
    "  - total spend: £96,667.50 (0.46% of total monthly spend)\n"
   ]
  },
  {
   "cell_type": "markdown",
   "metadata": {
    "slideshow": {
     "slide_type": "fragment"
    }
   },
   "source": [
    "- TELECOMMUNICATION SERVICES\n",
    "  - total spend: £83,592.42 (0.40% of total monthly spend)\n"
   ]
  },
  {
   "cell_type": "markdown",
   "metadata": {
    "slideshow": {
     "slide_type": "fragment"
    }
   },
   "source": [
    "- SOFTWARE LICENCE\n",
    "  - total spend: £64,818.00 (0.31% of total monthly spend)\n"
   ]
  },
  {
   "cell_type": "markdown",
   "metadata": {
    "slideshow": {
     "slide_type": "fragment"
    }
   },
   "source": [
    "- FACILITIES MANAGEMENT SERVICES\n",
    "  - total spend: £48,315.03 (0.23% of total monthly spend)\n"
   ]
  },
  {
   "cell_type": "markdown",
   "metadata": {
    "slideshow": {
     "slide_type": "fragment"
    }
   },
   "source": [
    "- ADMINISTRATION\n",
    "  - total spend: £45,400.00 (0.22% of total monthly spend)\n"
   ]
  },
  {
   "cell_type": "markdown",
   "metadata": {
    "slideshow": {
     "slide_type": "fragment"
    }
   },
   "source": [
    "- ELECTION EXPENSE\n",
    "  - total spend: £39,639.28 (0.19% of total monthly spend)\n"
   ]
  },
  {
   "cell_type": "markdown",
   "metadata": {
    "slideshow": {
     "slide_type": "fragment"
    }
   },
   "source": [
    "- CHILDCARE VOUCHERS\n",
    "  - total spend: £32,046.17 (0.15% of total monthly spend)\n"
   ]
  },
  {
   "cell_type": "markdown",
   "metadata": {
    "slideshow": {
     "slide_type": "fragment"
    }
   },
   "source": [
    "- PRINTING SERVICES\n",
    "  - total spend: £27,194.94 (0.13% of total monthly spend)\n"
   ]
  },
  {
   "cell_type": "markdown",
   "metadata": {
    "slideshow": {
     "slide_type": "slide"
    }
   },
   "source": [
    "## Major Monthly Spends  - PENSIONS ADMINISTRATION"
   ]
  },
  {
   "cell_type": "markdown",
   "metadata": {},
   "source": [
    "Total spend: £3,589,936.48 (17.01% of total Cabinet Office monthly spend)\n"
   ]
  },
  {
   "cell_type": "markdown",
   "metadata": {},
   "source": [
    "- CABINET OFFICE: £3,589,936.48 (100.00% of Description total, 17.01% of Cabinet Office total)"
   ]
  },
  {
   "cell_type": "markdown",
   "metadata": {
    "slideshow": {
     "slide_type": "slide"
    }
   },
   "source": [
    "## Major Monthly Spend by Expense Type: PENSIONS ADMINISTRATION"
   ]
  },
  {
   "cell_type": "markdown",
   "metadata": {
    "slideshow": {
     "slide_type": "fragment"
    }
   },
   "source": [
    "### CABINET OFFICE (100.00% of Description total, 17.01% of Cabinet Office total)"
   ]
  },
  {
   "cell_type": "markdown",
   "metadata": {},
   "source": [
    "- PENSIONS PAYROLL CONTRACTOR - FIXED FEE: £3,130,843.51 (87.21% of corresponding Description cabinet office spend)"
   ]
  },
  {
   "cell_type": "markdown",
   "metadata": {},
   "source": [
    "- PENSIONS ADMINISTRATION - ADDITIONAL COSTS (MYCSP): £426,176.30 (11.87% of corresponding Description cabinet office spend)"
   ]
  },
  {
   "cell_type": "markdown",
   "metadata": {
    "slideshow": {
     "slide_type": "subslide"
    }
   },
   "source": [
    "## PENSIONS ADMINISTRATION - PENSIONS PAYROLL CONTRACTOR - FIXED FEE (CABINET OFFICE)  Major Suppliers"
   ]
  },
  {
   "cell_type": "markdown",
   "metadata": {},
   "source": [
    "Overall, this Expense Type accounts for __£3,130,843.51__ (87.21% of corresponding Description cabinet office spend)"
   ]
  },
  {
   "cell_type": "markdown",
   "metadata": {},
   "source": [
    "- MYCSP LTD: £2,744,063.57 (87.65% of corresponding spend)"
   ]
  },
  {
   "cell_type": "markdown",
   "metadata": {},
   "source": [
    "- ROYAL MAIL GROUP LTD: £386,779.94 (12.35% of corresponding spend)"
   ]
  },
  {
   "cell_type": "markdown",
   "metadata": {
    "slideshow": {
     "slide_type": "subslide"
    }
   },
   "source": [
    "## PENSIONS ADMINISTRATION - PENSIONS ADMINISTRATION - ADDITIONAL COSTS (MYCSP) (CABINET OFFICE)  Major Suppliers"
   ]
  },
  {
   "cell_type": "markdown",
   "metadata": {},
   "source": [
    "Overall, this Expense Type accounts for __£426,176.30__ (11.87% of corresponding Description cabinet office spend)"
   ]
  },
  {
   "cell_type": "markdown",
   "metadata": {},
   "source": [
    "- MYCSP LTD: £426,176.30 (100.00% of corresponding spend)"
   ]
  },
  {
   "cell_type": "markdown",
   "metadata": {
    "slideshow": {
     "slide_type": "slide"
    }
   },
   "source": [
    "## Major Monthly Spend by Expense Area: PENSIONS ADMINISTRATION"
   ]
  },
  {
   "cell_type": "markdown",
   "metadata": {
    "slideshow": {
     "slide_type": "fragment"
    }
   },
   "source": [
    "### CABINET OFFICE (100.00% of Description total, 17.01% of Cabinet Office total)"
   ]
  },
  {
   "cell_type": "markdown",
   "metadata": {},
   "source": [
    "- SME CONTRACT MANAGMENT LEAD: £3,170,239.87 (88.31% of corresponding Description cabinet office spend)"
   ]
  },
  {
   "cell_type": "markdown",
   "metadata": {},
   "source": [
    "- ROYAL MAIL SERVICE PENSIONS: £419,696.61 (11.69% of corresponding Description cabinet office spend)"
   ]
  },
  {
   "cell_type": "markdown",
   "metadata": {
    "slideshow": {
     "slide_type": "subslide"
    }
   },
   "source": [
    "## PENSIONS ADMINISTRATION - SME CONTRACT MANAGMENT LEAD (CABINET OFFICE)  Major Suppliers"
   ]
  },
  {
   "cell_type": "markdown",
   "metadata": {},
   "source": [
    "Overall, this Expense Area accounts for __£3,170,239.87__ (88.31% of corresponding Description cabinet office spend)"
   ]
  },
  {
   "cell_type": "markdown",
   "metadata": {},
   "source": [
    "- MYCSP LTD: £3,170,239.87 (100.00% of corresponding spend)"
   ]
  },
  {
   "cell_type": "markdown",
   "metadata": {
    "slideshow": {
     "slide_type": "subslide"
    }
   },
   "source": [
    "## PENSIONS ADMINISTRATION - ROYAL MAIL SERVICE PENSIONS (CABINET OFFICE)  Major Suppliers"
   ]
  },
  {
   "cell_type": "markdown",
   "metadata": {},
   "source": [
    "Overall, this Expense Area accounts for __£419,696.61__ (11.69% of corresponding Description cabinet office spend)"
   ]
  },
  {
   "cell_type": "markdown",
   "metadata": {},
   "source": [
    "- ROYAL MAIL GROUP LTD: £419,696.61 (100.00% of corresponding spend)"
   ]
  },
  {
   "cell_type": "markdown",
   "metadata": {
    "slideshow": {
     "slide_type": "slide"
    }
   },
   "source": [
    "## Major Monthly Spends  - IT SERVICES"
   ]
  },
  {
   "cell_type": "markdown",
   "metadata": {},
   "source": [
    "Total spend: £3,329,066.06 (15.77% of total Cabinet Office monthly spend)\n"
   ]
  },
  {
   "cell_type": "markdown",
   "metadata": {},
   "source": [
    "- CABINET OFFICE: £3,304,066.06 (99.25% of Description total, 15.65% of Cabinet Office total)"
   ]
  },
  {
   "cell_type": "markdown",
   "metadata": {},
   "source": [
    "- CROWN COMMERCIAL SERVICE: £25,000.00 (0.75% of Description total, 0.12% of Cabinet Office total)"
   ]
  },
  {
   "cell_type": "markdown",
   "metadata": {
    "slideshow": {
     "slide_type": "slide"
    }
   },
   "source": [
    "## Major Monthly Spend by Expense Type: IT SERVICES"
   ]
  },
  {
   "cell_type": "markdown",
   "metadata": {
    "slideshow": {
     "slide_type": "fragment"
    }
   },
   "source": [
    "### CABINET OFFICE (99.25% of Description total, 15.65% of Cabinet Office total)"
   ]
  },
  {
   "cell_type": "markdown",
   "metadata": {},
   "source": [
    "- OTHER IS IT COSTS VAT RECOV: £1,227,840.44 (37.16% of corresponding Description cabinet office spend)"
   ]
  },
  {
   "cell_type": "markdown",
   "metadata": {},
   "source": [
    "- IS/IT COSTS - NON RECOVERABLE VAT: £665,255.54 (20.13% of corresponding Description cabinet office spend)"
   ]
  },
  {
   "cell_type": "markdown",
   "metadata": {},
   "source": [
    "- ADDITIONS IT HARDWARE: £626,015.51 (18.95% of corresponding Description cabinet office spend)"
   ]
  },
  {
   "cell_type": "markdown",
   "metadata": {},
   "source": [
    "- SOFTWARE LEASE/LICENSE: £464,472.14 (14.06% of corresponding Description cabinet office spend)"
   ]
  },
  {
   "cell_type": "markdown",
   "metadata": {
    "slideshow": {
     "slide_type": "fragment"
    }
   },
   "source": [
    "### CROWN COMMERCIAL SERVICE (0.75% of Description total, 0.12% of Cabinet Office total)"
   ]
  },
  {
   "cell_type": "markdown",
   "metadata": {},
   "source": [
    "- CCS TECH, DEVELOPMEN: £25,000.00 (100.00% of corresponding Description crown commercial service spend)"
   ]
  },
  {
   "cell_type": "markdown",
   "metadata": {
    "slideshow": {
     "slide_type": "subslide"
    }
   },
   "source": [
    "## IT SERVICES - OTHER IS IT COSTS VAT RECOV (CABINET OFFICE)  Major Suppliers"
   ]
  },
  {
   "cell_type": "markdown",
   "metadata": {},
   "source": [
    "Overall, this Expense Type accounts for __£1,227,840.44__ (37.16% of corresponding Description cabinet office spend)"
   ]
  },
  {
   "cell_type": "markdown",
   "metadata": {},
   "source": [
    "- FUJITSU SERVICES: £484,328.03 (39.45% of corresponding spend)"
   ]
  },
  {
   "cell_type": "markdown",
   "metadata": {},
   "source": [
    "- PURPLE SECURE SYSTEMS LTD: £149,700.78 (12.19% of corresponding spend)"
   ]
  },
  {
   "cell_type": "markdown",
   "metadata": {},
   "source": [
    "- SUREVINE LTD: £133,928.41 (10.91% of corresponding spend)"
   ]
  },
  {
   "cell_type": "markdown",
   "metadata": {},
   "source": [
    "- E2E ASSURE LTD: £91,740.16 (7.47% of corresponding spend)"
   ]
  },
  {
   "cell_type": "markdown",
   "metadata": {},
   "source": [
    "- G2 AND ASSOCIATES LTD TA G2 BUSINESS SERVICES: £88,000.00 (7.17% of corresponding spend)"
   ]
  },
  {
   "cell_type": "markdown",
   "metadata": {},
   "source": [
    "- DSTL: £78,378.34 (6.38% of corresponding spend)"
   ]
  },
  {
   "cell_type": "markdown",
   "metadata": {
    "slideshow": {
     "slide_type": "subslide"
    }
   },
   "source": [
    "## IT SERVICES - IS/IT COSTS - NON RECOVERABLE VAT (CABINET OFFICE)  Major Suppliers"
   ]
  },
  {
   "cell_type": "markdown",
   "metadata": {},
   "source": [
    "Overall, this Expense Type accounts for __£665,255.54__ (20.13% of corresponding Description cabinet office spend)"
   ]
  },
  {
   "cell_type": "markdown",
   "metadata": {},
   "source": [
    "- PWC: £327,062.40 (49.16% of corresponding spend)"
   ]
  },
  {
   "cell_type": "markdown",
   "metadata": {},
   "source": [
    "- CARRENZA LTD: £106,763.08 (16.05% of corresponding spend)"
   ]
  },
  {
   "cell_type": "markdown",
   "metadata": {},
   "source": [
    "- UNBOXED CONSULTING LTD: £57,239.86 (8.60% of corresponding spend)"
   ]
  },
  {
   "cell_type": "markdown",
   "metadata": {},
   "source": [
    "- QINETIQ LTD: £50,407.20 (7.58% of corresponding spend)"
   ]
  },
  {
   "cell_type": "markdown",
   "metadata": {
    "slideshow": {
     "slide_type": "subslide"
    }
   },
   "source": [
    "## IT SERVICES - ADDITIONS IT HARDWARE (CABINET OFFICE)  Major Suppliers"
   ]
  },
  {
   "cell_type": "markdown",
   "metadata": {},
   "source": [
    "Overall, this Expense Type accounts for __£626,015.51__ (18.95% of corresponding Description cabinet office spend)"
   ]
  },
  {
   "cell_type": "markdown",
   "metadata": {},
   "source": [
    "- MISCO: £626,015.51 (100.00% of corresponding spend)"
   ]
  },
  {
   "cell_type": "markdown",
   "metadata": {
    "slideshow": {
     "slide_type": "subslide"
    }
   },
   "source": [
    "## IT SERVICES - SOFTWARE LEASE/LICENSE (CABINET OFFICE)  Major Suppliers"
   ]
  },
  {
   "cell_type": "markdown",
   "metadata": {},
   "source": [
    "Overall, this Expense Type accounts for __£464,472.14__ (14.06% of corresponding Description cabinet office spend)"
   ]
  },
  {
   "cell_type": "markdown",
   "metadata": {},
   "source": [
    "- TRUSTMARQUE SOLUTIONS LTD: £160,637.60 (34.58% of corresponding spend)"
   ]
  },
  {
   "cell_type": "markdown",
   "metadata": {},
   "source": [
    "- E2E ASSURE LTD: £134,599.62 (28.98% of corresponding spend)"
   ]
  },
  {
   "cell_type": "markdown",
   "metadata": {},
   "source": [
    "- CLOUD TECHNOLOGY SOLUTIONS LTD: £129,514.92 (27.88% of corresponding spend)"
   ]
  },
  {
   "cell_type": "markdown",
   "metadata": {
    "slideshow": {
     "slide_type": "subslide"
    }
   },
   "source": [
    "## IT SERVICES - CCS TECH, DEVELOPMEN (CROWN COMMERCIAL SERVICE)  Major Suppliers"
   ]
  },
  {
   "cell_type": "markdown",
   "metadata": {},
   "source": [
    "Overall, this Expense Type accounts for __£25,000.00__ (100.00% of corresponding Description crown commercial service spend)"
   ]
  },
  {
   "cell_type": "markdown",
   "metadata": {},
   "source": [
    "- ELEVATE PLATFORM: £25,000.00 (100.00% of corresponding spend)"
   ]
  },
  {
   "cell_type": "markdown",
   "metadata": {
    "slideshow": {
     "slide_type": "slide"
    }
   },
   "source": [
    "## Major Monthly Spend by Expense Area: IT SERVICES"
   ]
  },
  {
   "cell_type": "markdown",
   "metadata": {
    "slideshow": {
     "slide_type": "fragment"
    }
   },
   "source": [
    "### CABINET OFFICE (99.25% of Description total, 15.65% of Cabinet Office total)"
   ]
  },
  {
   "cell_type": "markdown",
   "metadata": {},
   "source": [
    "- CERT: £799,731.40 (24.20% of corresponding Description cabinet office spend)"
   ]
  },
  {
   "cell_type": "markdown",
   "metadata": {},
   "source": [
    "- DIGITAL & TECHNOLOGY TEAM - FLEX C / FABRIC: £600,064.91 (18.16% of corresponding Description cabinet office spend)"
   ]
  },
  {
   "cell_type": "markdown",
   "metadata": {},
   "source": [
    "- DIGITAL AND TECHNOLOGY TEAM - FLEX C / FABRIC: £484,328.03 (14.66% of corresponding Description cabinet office spend)"
   ]
  },
  {
   "cell_type": "markdown",
   "metadata": {},
   "source": [
    "- COMMON TECHNOLOGY SERVICES: £327,062.40 (9.90% of corresponding Description cabinet office spend)"
   ]
  },
  {
   "cell_type": "markdown",
   "metadata": {},
   "source": [
    "- GDS PUBLISHING PLATFORM TECHNOLOGY: £201,721.94 (6.11% of corresponding Description cabinet office spend)"
   ]
  },
  {
   "cell_type": "markdown",
   "metadata": {},
   "source": [
    "- DIGITAL AND TECHNOLOGY APPLICATIONS TEAM: £160,637.60 (4.86% of corresponding Description cabinet office spend)"
   ]
  },
  {
   "cell_type": "markdown",
   "metadata": {},
   "source": [
    "- DIGITAL AND TECHNOLOGY TEAM - CROWN COMMERCIAL SERVICE: £129,514.92 (3.92% of corresponding Description cabinet office spend)"
   ]
  },
  {
   "cell_type": "markdown",
   "metadata": {
    "slideshow": {
     "slide_type": "fragment"
    }
   },
   "source": [
    "### CROWN COMMERCIAL SERVICE (0.75% of Description total, 0.12% of Cabinet Office total)"
   ]
  },
  {
   "cell_type": "markdown",
   "metadata": {},
   "source": [
    "- DIGITAL TECHNOLOGY PLATFORM: £25,000.00 (100.00% of corresponding Description crown commercial service spend)"
   ]
  },
  {
   "cell_type": "markdown",
   "metadata": {
    "slideshow": {
     "slide_type": "subslide"
    }
   },
   "source": [
    "## IT SERVICES - CERT (CABINET OFFICE)  Major Suppliers"
   ]
  },
  {
   "cell_type": "markdown",
   "metadata": {},
   "source": [
    "Overall, this Expense Area accounts for __£799,731.40__ (24.20% of corresponding Description cabinet office spend)"
   ]
  },
  {
   "cell_type": "markdown",
   "metadata": {},
   "source": [
    "- PURPLE SECURE SYSTEMS LTD: £335,783.21 (41.99% of corresponding spend)"
   ]
  },
  {
   "cell_type": "markdown",
   "metadata": {},
   "source": [
    "- E2E ASSURE LTD: £330,019.78 (41.27% of corresponding spend)"
   ]
  },
  {
   "cell_type": "markdown",
   "metadata": {},
   "source": [
    "- SUREVINE LTD: £133,928.41 (16.75% of corresponding spend)"
   ]
  },
  {
   "cell_type": "markdown",
   "metadata": {
    "slideshow": {
     "slide_type": "subslide"
    }
   },
   "source": [
    "## IT SERVICES - DIGITAL & TECHNOLOGY TEAM - FLEX C / FABRIC (CABINET OFFICE)  Major Suppliers"
   ]
  },
  {
   "cell_type": "markdown",
   "metadata": {},
   "source": [
    "Overall, this Expense Area accounts for __£600,064.91__ (18.16% of corresponding Description cabinet office spend)"
   ]
  },
  {
   "cell_type": "markdown",
   "metadata": {},
   "source": [
    "- MISCO: £600,064.91 (100.00% of corresponding spend)"
   ]
  },
  {
   "cell_type": "markdown",
   "metadata": {
    "slideshow": {
     "slide_type": "subslide"
    }
   },
   "source": [
    "## IT SERVICES - DIGITAL AND TECHNOLOGY TEAM - FLEX C / FABRIC (CABINET OFFICE)  Major Suppliers"
   ]
  },
  {
   "cell_type": "markdown",
   "metadata": {},
   "source": [
    "Overall, this Expense Area accounts for __£484,328.03__ (14.66% of corresponding Description cabinet office spend)"
   ]
  },
  {
   "cell_type": "markdown",
   "metadata": {},
   "source": [
    "- FUJITSU SERVICES: £484,328.03 (100.00% of corresponding spend)"
   ]
  },
  {
   "cell_type": "markdown",
   "metadata": {
    "slideshow": {
     "slide_type": "subslide"
    }
   },
   "source": [
    "## IT SERVICES - COMMON TECHNOLOGY SERVICES (CABINET OFFICE)  Major Suppliers"
   ]
  },
  {
   "cell_type": "markdown",
   "metadata": {},
   "source": [
    "Overall, this Expense Area accounts for __£327,062.40__ (9.90% of corresponding Description cabinet office spend)"
   ]
  },
  {
   "cell_type": "markdown",
   "metadata": {},
   "source": [
    "- PWC: £327,062.40 (100.00% of corresponding spend)"
   ]
  },
  {
   "cell_type": "markdown",
   "metadata": {
    "slideshow": {
     "slide_type": "subslide"
    }
   },
   "source": [
    "## IT SERVICES - GDS PUBLISHING PLATFORM TECHNOLOGY (CABINET OFFICE)  Major Suppliers"
   ]
  },
  {
   "cell_type": "markdown",
   "metadata": {},
   "source": [
    "Overall, this Expense Area accounts for __£201,721.94__ (6.11% of corresponding Description cabinet office spend)"
   ]
  },
  {
   "cell_type": "markdown",
   "metadata": {},
   "source": [
    "- CARRENZA LTD: £106,763.08 (52.93% of corresponding spend)"
   ]
  },
  {
   "cell_type": "markdown",
   "metadata": {},
   "source": [
    "- UNBOXED CONSULTING LTD: £57,239.86 (28.38% of corresponding spend)"
   ]
  },
  {
   "cell_type": "markdown",
   "metadata": {},
   "source": [
    "- METHODS PROFESSIONAL SERVICES: £37,719.00 (18.70% of corresponding spend)"
   ]
  },
  {
   "cell_type": "markdown",
   "metadata": {
    "slideshow": {
     "slide_type": "subslide"
    }
   },
   "source": [
    "## IT SERVICES - DIGITAL AND TECHNOLOGY APPLICATIONS TEAM (CABINET OFFICE)  Major Suppliers"
   ]
  },
  {
   "cell_type": "markdown",
   "metadata": {},
   "source": [
    "Overall, this Expense Area accounts for __£160,637.60__ (4.86% of corresponding Description cabinet office spend)"
   ]
  },
  {
   "cell_type": "markdown",
   "metadata": {},
   "source": [
    "- TRUSTMARQUE SOLUTIONS LTD: £160,637.60 (100.00% of corresponding spend)"
   ]
  },
  {
   "cell_type": "markdown",
   "metadata": {
    "slideshow": {
     "slide_type": "subslide"
    }
   },
   "source": [
    "## IT SERVICES - DIGITAL AND TECHNOLOGY TEAM - CROWN COMMERCIAL SERVICE (CABINET OFFICE)  Major Suppliers"
   ]
  },
  {
   "cell_type": "markdown",
   "metadata": {},
   "source": [
    "Overall, this Expense Area accounts for __£129,514.92__ (3.92% of corresponding Description cabinet office spend)"
   ]
  },
  {
   "cell_type": "markdown",
   "metadata": {},
   "source": [
    "- CLOUD TECHNOLOGY SOLUTIONS LTD: £129,514.92 (100.00% of corresponding spend)"
   ]
  },
  {
   "cell_type": "markdown",
   "metadata": {
    "slideshow": {
     "slide_type": "subslide"
    }
   },
   "source": [
    "## IT SERVICES - DIGITAL TECHNOLOGY PLATFORM (CROWN COMMERCIAL SERVICE)  Major Suppliers"
   ]
  },
  {
   "cell_type": "markdown",
   "metadata": {},
   "source": [
    "Overall, this Expense Area accounts for __£25,000.00__ (100.00% of corresponding Description crown commercial service spend)"
   ]
  },
  {
   "cell_type": "markdown",
   "metadata": {},
   "source": [
    "- ELEVATE PLATFORM: £25,000.00 (100.00% of corresponding spend)"
   ]
  },
  {
   "cell_type": "markdown",
   "metadata": {
    "slideshow": {
     "slide_type": "slide"
    }
   },
   "source": [
    "## Major Monthly Spends  - RENT"
   ]
  },
  {
   "cell_type": "markdown",
   "metadata": {},
   "source": [
    "Total spend: £3,188,411.76 (15.10% of total Cabinet Office monthly spend)\n"
   ]
  },
  {
   "cell_type": "markdown",
   "metadata": {},
   "source": [
    "- CABINET OFFICE: £3,099,861.01 (97.22% of Description total, 14.68% of Cabinet Office total)"
   ]
  },
  {
   "cell_type": "markdown",
   "metadata": {},
   "source": [
    "- CROWN COMMERCIAL SERVICE: £88,550.75 (2.78% of Description total, 0.42% of Cabinet Office total)"
   ]
  },
  {
   "cell_type": "markdown",
   "metadata": {
    "slideshow": {
     "slide_type": "slide"
    }
   },
   "source": [
    "## Major Monthly Spend by Expense Type: RENT"
   ]
  },
  {
   "cell_type": "markdown",
   "metadata": {
    "slideshow": {
     "slide_type": "fragment"
    }
   },
   "source": [
    "### CABINET OFFICE (97.22% of Description total, 14.68% of Cabinet Office total)"
   ]
  },
  {
   "cell_type": "markdown",
   "metadata": {},
   "source": [
    "- OPERATING LEASES - RENT: £3,099,861.01 (100.00% of corresponding Description cabinet office spend)"
   ]
  },
  {
   "cell_type": "markdown",
   "metadata": {
    "slideshow": {
     "slide_type": "fragment"
    }
   },
   "source": [
    "### CROWN COMMERCIAL SERVICE (2.78% of Description total, 0.42% of Cabinet Office total)"
   ]
  },
  {
   "cell_type": "markdown",
   "metadata": {},
   "source": [
    "- MOTO CAPITAL BLDG 9TH FLOOR: £44,519.50 (50.28% of corresponding Description crown commercial service spend)"
   ]
  },
  {
   "cell_type": "markdown",
   "metadata": {},
   "source": [
    "- MOTO CAPITAL BLDG 8TH FLOOR: £44,031.25 (49.72% of corresponding Description crown commercial service spend)"
   ]
  },
  {
   "cell_type": "markdown",
   "metadata": {
    "slideshow": {
     "slide_type": "subslide"
    }
   },
   "source": [
    "## RENT - OPERATING LEASES - RENT (CABINET OFFICE)  Major Suppliers"
   ]
  },
  {
   "cell_type": "markdown",
   "metadata": {},
   "source": [
    "Overall, this Expense Type accounts for __£3,099,861.01__ (100.00% of corresponding Description cabinet office spend)"
   ]
  },
  {
   "cell_type": "markdown",
   "metadata": {},
   "source": [
    "- HM TREASURY: £2,841,815.11 (91.68% of corresponding spend)"
   ]
  },
  {
   "cell_type": "markdown",
   "metadata": {
    "slideshow": {
     "slide_type": "subslide"
    }
   },
   "source": [
    "## RENT - MOTO CAPITAL BLDG 9TH FLOOR (CROWN COMMERCIAL SERVICE)  Major Suppliers"
   ]
  },
  {
   "cell_type": "markdown",
   "metadata": {},
   "source": [
    "Overall, this Expense Type accounts for __£44,519.50__ (50.28% of corresponding Description crown commercial service spend)"
   ]
  },
  {
   "cell_type": "markdown",
   "metadata": {},
   "source": [
    "- DTZ: £44,519.50 (100.00% of corresponding spend)"
   ]
  },
  {
   "cell_type": "markdown",
   "metadata": {
    "slideshow": {
     "slide_type": "subslide"
    }
   },
   "source": [
    "## RENT - MOTO CAPITAL BLDG 8TH FLOOR (CROWN COMMERCIAL SERVICE)  Major Suppliers"
   ]
  },
  {
   "cell_type": "markdown",
   "metadata": {},
   "source": [
    "Overall, this Expense Type accounts for __£44,031.25__ (49.72% of corresponding Description crown commercial service spend)"
   ]
  },
  {
   "cell_type": "markdown",
   "metadata": {},
   "source": [
    "- DTZ: £44,031.25 (100.00% of corresponding spend)"
   ]
  },
  {
   "cell_type": "markdown",
   "metadata": {
    "slideshow": {
     "slide_type": "slide"
    }
   },
   "source": [
    "## Major Monthly Spend by Expense Area: RENT"
   ]
  },
  {
   "cell_type": "markdown",
   "metadata": {
    "slideshow": {
     "slide_type": "fragment"
    }
   },
   "source": [
    "### CABINET OFFICE (97.22% of Description total, 14.68% of Cabinet Office total)"
   ]
  },
  {
   "cell_type": "markdown",
   "metadata": {},
   "source": [
    "- 1 HORSEGUARDS ROAD: £2,841,815.11 (91.68% of corresponding Description cabinet office spend)"
   ]
  },
  {
   "cell_type": "markdown",
   "metadata": {
    "slideshow": {
     "slide_type": "fragment"
    }
   },
   "source": [
    "### CROWN COMMERCIAL SERVICE (2.78% of Description total, 0.42% of Cabinet Office total)"
   ]
  },
  {
   "cell_type": "markdown",
   "metadata": {},
   "source": [
    "- ESTATES MANAGEMENT: £88,550.75 (100.00% of corresponding Description crown commercial service spend)"
   ]
  },
  {
   "cell_type": "markdown",
   "metadata": {
    "slideshow": {
     "slide_type": "subslide"
    }
   },
   "source": [
    "## RENT - 1 HORSEGUARDS ROAD (CABINET OFFICE)  Major Suppliers"
   ]
  },
  {
   "cell_type": "markdown",
   "metadata": {},
   "source": [
    "Overall, this Expense Area accounts for __£2,841,815.11__ (91.68% of corresponding Description cabinet office spend)"
   ]
  },
  {
   "cell_type": "markdown",
   "metadata": {},
   "source": [
    "- HM TREASURY: £2,841,815.11 (100.00% of corresponding spend)"
   ]
  },
  {
   "cell_type": "markdown",
   "metadata": {
    "slideshow": {
     "slide_type": "subslide"
    }
   },
   "source": [
    "## RENT - ESTATES MANAGEMENT (CROWN COMMERCIAL SERVICE)  Major Suppliers"
   ]
  },
  {
   "cell_type": "markdown",
   "metadata": {},
   "source": [
    "Overall, this Expense Area accounts for __£88,550.75__ (100.00% of corresponding Description crown commercial service spend)"
   ]
  },
  {
   "cell_type": "markdown",
   "metadata": {},
   "source": [
    "- DTZ: £88,550.75 (100.00% of corresponding spend)"
   ]
  },
  {
   "cell_type": "markdown",
   "metadata": {
    "slideshow": {
     "slide_type": "slide"
    }
   },
   "source": [
    "## Major Monthly Spends  - INTERIM SERVICES"
   ]
  },
  {
   "cell_type": "markdown",
   "metadata": {},
   "source": [
    "Total spend: £2,209,900.21 (10.47% of total Cabinet Office monthly spend)\n"
   ]
  },
  {
   "cell_type": "markdown",
   "metadata": {},
   "source": [
    "- CABINET OFFICE: £2,209,900.21 (100.00% of Description total, 10.47% of Cabinet Office total)"
   ]
  },
  {
   "cell_type": "markdown",
   "metadata": {
    "slideshow": {
     "slide_type": "slide"
    }
   },
   "source": [
    "## Major Monthly Spend by Expense Type: INTERIM SERVICES"
   ]
  },
  {
   "cell_type": "markdown",
   "metadata": {
    "slideshow": {
     "slide_type": "fragment"
    }
   },
   "source": [
    "### CABINET OFFICE (100.00% of Description total, 10.47% of Cabinet Office total)"
   ]
  },
  {
   "cell_type": "markdown",
   "metadata": {},
   "source": [
    "- CONTRACTORS & STAFF SUBSTITUTIONS: £1,256,217.89 (56.85% of corresponding Description cabinet office spend)"
   ]
  },
  {
   "cell_type": "markdown",
   "metadata": {},
   "source": [
    "- IS/IT COSTS - NON RECOVERABLE VAT: £953,682.32 (43.15% of corresponding Description cabinet office spend)"
   ]
  },
  {
   "cell_type": "markdown",
   "metadata": {
    "slideshow": {
     "slide_type": "subslide"
    }
   },
   "source": [
    "## INTERIM SERVICES - CONTRACTORS & STAFF SUBSTITUTIONS (CABINET OFFICE)  Major Suppliers"
   ]
  },
  {
   "cell_type": "markdown",
   "metadata": {},
   "source": [
    "Overall, this Expense Type accounts for __£1,256,217.89__ (56.85% of corresponding Description cabinet office spend)"
   ]
  },
  {
   "cell_type": "markdown",
   "metadata": {},
   "source": [
    "- CAPITA BUSINESS SERVICES LTD: £838,650.32 (66.76% of corresponding spend)"
   ]
  },
  {
   "cell_type": "markdown",
   "metadata": {},
   "source": [
    "- THE NICHOLS GROUP: £121,080.96 (9.64% of corresponding spend)"
   ]
  },
  {
   "cell_type": "markdown",
   "metadata": {},
   "source": [
    "- GREEN PARK INTERIM AND EXECUTIVE LTD: £108,670.08 (8.65% of corresponding spend)"
   ]
  },
  {
   "cell_type": "markdown",
   "metadata": {
    "slideshow": {
     "slide_type": "subslide"
    }
   },
   "source": [
    "## INTERIM SERVICES - IS/IT COSTS - NON RECOVERABLE VAT (CABINET OFFICE)  Major Suppliers"
   ]
  },
  {
   "cell_type": "markdown",
   "metadata": {},
   "source": [
    "Overall, this Expense Type accounts for __£953,682.32__ (43.15% of corresponding Description cabinet office spend)"
   ]
  },
  {
   "cell_type": "markdown",
   "metadata": {},
   "source": [
    "- CDG LTD: £500,090.12 (52.44% of corresponding spend)"
   ]
  },
  {
   "cell_type": "markdown",
   "metadata": {},
   "source": [
    "- DMSG LTD: £145,480.20 (15.25% of corresponding spend)"
   ]
  },
  {
   "cell_type": "markdown",
   "metadata": {},
   "source": [
    "- ERGON LTD: £92,010.00 (9.65% of corresponding spend)"
   ]
  },
  {
   "cell_type": "markdown",
   "metadata": {},
   "source": [
    "- M4 MANAGED SERVICES INTERNATIONAL LTD: £78,396.00 (8.22% of corresponding spend)"
   ]
  },
  {
   "cell_type": "markdown",
   "metadata": {
    "slideshow": {
     "slide_type": "slide"
    }
   },
   "source": [
    "## Major Monthly Spend by Expense Area: INTERIM SERVICES"
   ]
  },
  {
   "cell_type": "markdown",
   "metadata": {
    "slideshow": {
     "slide_type": "fragment"
    }
   },
   "source": [
    "### CABINET OFFICE (100.00% of Description total, 10.47% of Cabinet Office total)"
   ]
  },
  {
   "cell_type": "markdown",
   "metadata": {},
   "source": [
    "- COMMON TECHNOLOGY SERVICES: £980,537.57 (44.37% of corresponding Description cabinet office spend)"
   ]
  },
  {
   "cell_type": "markdown",
   "metadata": {},
   "source": [
    "- GDS PUBLISHING PLATFORM TECHNOLOGY: £275,530.75 (12.47% of corresponding Description cabinet office spend)"
   ]
  },
  {
   "cell_type": "markdown",
   "metadata": {},
   "source": [
    "- ERG DEPARTMENTAL ENGAGEMENT: £177,981.84 (8.05% of corresponding Description cabinet office spend)"
   ]
  },
  {
   "cell_type": "markdown",
   "metadata": {},
   "source": [
    "- GDS ID ASSURANCE: £120,756.93 (5.46% of corresponding Description cabinet office spend)"
   ]
  },
  {
   "cell_type": "markdown",
   "metadata": {},
   "source": [
    "- ERG NEXT GENERATION SHARED SERVICES: £108,670.08 (4.92% of corresponding Description cabinet office spend)"
   ]
  },
  {
   "cell_type": "markdown",
   "metadata": {},
   "source": [
    "- GPU GOVERNMENT PROPERTY MODEL: £87,409.22 (3.96% of corresponding Description cabinet office spend)"
   ]
  },
  {
   "cell_type": "markdown",
   "metadata": {},
   "source": [
    "- GDS ENABLING STRATEGY: £85,373.92 (3.86% of corresponding Description cabinet office spend)"
   ]
  },
  {
   "cell_type": "markdown",
   "metadata": {
    "slideshow": {
     "slide_type": "subslide"
    }
   },
   "source": [
    "## INTERIM SERVICES - COMMON TECHNOLOGY SERVICES (CABINET OFFICE)  Major Suppliers"
   ]
  },
  {
   "cell_type": "markdown",
   "metadata": {},
   "source": [
    "Overall, this Expense Area accounts for __£980,537.57__ (44.37% of corresponding Description cabinet office spend)"
   ]
  },
  {
   "cell_type": "markdown",
   "metadata": {},
   "source": [
    "- CDG LTD: £500,090.12 (51.00% of corresponding spend)"
   ]
  },
  {
   "cell_type": "markdown",
   "metadata": {},
   "source": [
    "- DMSG LTD: £145,480.20 (14.84% of corresponding spend)"
   ]
  },
  {
   "cell_type": "markdown",
   "metadata": {},
   "source": [
    "- ERGON LTD: £92,010.00 (9.38% of corresponding spend)"
   ]
  },
  {
   "cell_type": "markdown",
   "metadata": {},
   "source": [
    "- M4 MANAGED SERVICES INTERNATIONAL LTD: £78,396.00 (8.00% of corresponding spend)"
   ]
  },
  {
   "cell_type": "markdown",
   "metadata": {
    "slideshow": {
     "slide_type": "subslide"
    }
   },
   "source": [
    "## INTERIM SERVICES - GDS PUBLISHING PLATFORM TECHNOLOGY (CABINET OFFICE)  Major Suppliers"
   ]
  },
  {
   "cell_type": "markdown",
   "metadata": {},
   "source": [
    "Overall, this Expense Area accounts for __£275,530.75__ (12.47% of corresponding Description cabinet office spend)"
   ]
  },
  {
   "cell_type": "markdown",
   "metadata": {},
   "source": [
    "- CAPITA BUSINESS SERVICES LTD: £275,530.75 (100.00% of corresponding spend)"
   ]
  },
  {
   "cell_type": "markdown",
   "metadata": {
    "slideshow": {
     "slide_type": "subslide"
    }
   },
   "source": [
    "## INTERIM SERVICES - ERG DEPARTMENTAL ENGAGEMENT (CABINET OFFICE)  Major Suppliers"
   ]
  },
  {
   "cell_type": "markdown",
   "metadata": {},
   "source": [
    "Overall, this Expense Area accounts for __£177,981.84__ (8.05% of corresponding Description cabinet office spend)"
   ]
  },
  {
   "cell_type": "markdown",
   "metadata": {},
   "source": [
    "- THE NICHOLS GROUP: £121,080.96 (68.03% of corresponding spend)"
   ]
  },
  {
   "cell_type": "markdown",
   "metadata": {},
   "source": [
    "- CONCERTO PARTNERS LLP: £56,900.88 (31.97% of corresponding spend)"
   ]
  },
  {
   "cell_type": "markdown",
   "metadata": {
    "slideshow": {
     "slide_type": "subslide"
    }
   },
   "source": [
    "## INTERIM SERVICES - GDS ID ASSURANCE (CABINET OFFICE)  Major Suppliers"
   ]
  },
  {
   "cell_type": "markdown",
   "metadata": {},
   "source": [
    "Overall, this Expense Area accounts for __£120,756.93__ (5.46% of corresponding Description cabinet office spend)"
   ]
  },
  {
   "cell_type": "markdown",
   "metadata": {},
   "source": [
    "- CAPITA BUSINESS SERVICES LTD: £120,756.93 (100.00% of corresponding spend)"
   ]
  },
  {
   "cell_type": "markdown",
   "metadata": {
    "slideshow": {
     "slide_type": "subslide"
    }
   },
   "source": [
    "## INTERIM SERVICES - ERG NEXT GENERATION SHARED SERVICES (CABINET OFFICE)  Major Suppliers"
   ]
  },
  {
   "cell_type": "markdown",
   "metadata": {},
   "source": [
    "Overall, this Expense Area accounts for __£108,670.08__ (4.92% of corresponding Description cabinet office spend)"
   ]
  },
  {
   "cell_type": "markdown",
   "metadata": {},
   "source": [
    "- GREEN PARK INTERIM AND EXECUTIVE LTD: £108,670.08 (100.00% of corresponding spend)"
   ]
  },
  {
   "cell_type": "markdown",
   "metadata": {
    "slideshow": {
     "slide_type": "subslide"
    }
   },
   "source": [
    "## INTERIM SERVICES - GPU GOVERNMENT PROPERTY MODEL (CABINET OFFICE)  Major Suppliers"
   ]
  },
  {
   "cell_type": "markdown",
   "metadata": {},
   "source": [
    "Overall, this Expense Area accounts for __£87,409.22__ (3.96% of corresponding Description cabinet office spend)"
   ]
  },
  {
   "cell_type": "markdown",
   "metadata": {},
   "source": [
    "- CAPITA BUSINESS SERVICES LTD: £87,409.22 (100.00% of corresponding spend)"
   ]
  },
  {
   "cell_type": "markdown",
   "metadata": {
    "slideshow": {
     "slide_type": "subslide"
    }
   },
   "source": [
    "## INTERIM SERVICES - GDS ENABLING STRATEGY (CABINET OFFICE)  Major Suppliers"
   ]
  },
  {
   "cell_type": "markdown",
   "metadata": {},
   "source": [
    "Overall, this Expense Area accounts for __£85,373.92__ (3.86% of corresponding Description cabinet office spend)"
   ]
  },
  {
   "cell_type": "markdown",
   "metadata": {},
   "source": [
    "- CAPITA BUSINESS SERVICES LTD: £85,373.92 (100.00% of corresponding spend)"
   ]
  },
  {
   "cell_type": "markdown",
   "metadata": {
    "slideshow": {
     "slide_type": "slide"
    }
   },
   "source": [
    "## Major Monthly Spends  - COMMERCIAL ACCELERATOR PROGRAMME INITIATIVES"
   ]
  },
  {
   "cell_type": "markdown",
   "metadata": {},
   "source": [
    "Total spend: £1,753,375.00 (8.31% of total Cabinet Office monthly spend)\n"
   ]
  },
  {
   "cell_type": "markdown",
   "metadata": {},
   "source": [
    "- CROWN COMMERCIAL SERVICE: £1,753,375.00 (100.00% of Description total, 8.31% of Cabinet Office total)"
   ]
  },
  {
   "cell_type": "markdown",
   "metadata": {
    "slideshow": {
     "slide_type": "slide"
    }
   },
   "source": [
    "## Major Monthly Spend by Expense Type: COMMERCIAL ACCELERATOR PROGRAMME INITIATIVES"
   ]
  },
  {
   "cell_type": "markdown",
   "metadata": {
    "slideshow": {
     "slide_type": "fragment"
    }
   },
   "source": [
    "### CROWN COMMERCIAL SERVICE (100.00% of Description total, 8.31% of Cabinet Office total)"
   ]
  },
  {
   "cell_type": "markdown",
   "metadata": {},
   "source": [
    "- MCKINSEY CONSULTANCY: £1,753,375.00 (100.00% of corresponding Description crown commercial service spend)"
   ]
  },
  {
   "cell_type": "markdown",
   "metadata": {
    "slideshow": {
     "slide_type": "slide"
    }
   },
   "source": [
    "## Major Monthly Spend by Expense Area: COMMERCIAL ACCELERATOR PROGRAMME INITIATIVES"
   ]
  },
  {
   "cell_type": "markdown",
   "metadata": {
    "slideshow": {
     "slide_type": "fragment"
    }
   },
   "source": [
    "### CROWN COMMERCIAL SERVICE (100.00% of Description total, 8.31% of Cabinet Office total)"
   ]
  },
  {
   "cell_type": "markdown",
   "metadata": {},
   "source": [
    "- CDD: £1,753,375.00 (100.00% of corresponding Description crown commercial service spend)"
   ]
  },
  {
   "cell_type": "markdown",
   "metadata": {
    "slideshow": {
     "slide_type": "slide"
    }
   },
   "source": [
    "## Major Monthly Spends  - SERVICE PAYMENT"
   ]
  },
  {
   "cell_type": "markdown",
   "metadata": {},
   "source": [
    "Total spend: £989,253.80 (4.69% of total Cabinet Office monthly spend)\n"
   ]
  },
  {
   "cell_type": "markdown",
   "metadata": {},
   "source": [
    "- CABINET OFFICE: £989,253.80 (100.00% of Description total, 4.69% of Cabinet Office total)"
   ]
  },
  {
   "cell_type": "markdown",
   "metadata": {
    "slideshow": {
     "slide_type": "slide"
    }
   },
   "source": [
    "## Major Monthly Spend by Expense Type: SERVICE PAYMENT"
   ]
  },
  {
   "cell_type": "markdown",
   "metadata": {
    "slideshow": {
     "slide_type": "fragment"
    }
   },
   "source": [
    "### CABINET OFFICE (100.00% of Description total, 4.69% of Cabinet Office total)"
   ]
  },
  {
   "cell_type": "markdown",
   "metadata": {},
   "source": [
    "- SERVICE PAYMENTS: £989,253.80 (100.00% of corresponding Description cabinet office spend)"
   ]
  },
  {
   "cell_type": "markdown",
   "metadata": {
    "slideshow": {
     "slide_type": "subslide"
    }
   },
   "source": [
    "## SERVICE PAYMENT - SERVICE PAYMENTS (CABINET OFFICE)  Major Suppliers"
   ]
  },
  {
   "cell_type": "markdown",
   "metadata": {},
   "source": [
    "Overall, this Expense Type accounts for __£989,253.80__ (100.00% of corresponding Description cabinet office spend)"
   ]
  },
  {
   "cell_type": "markdown",
   "metadata": {},
   "source": [
    "- SHARED SERVICES CONNECTED LTD: £989,253.80 (100.00% of corresponding spend)"
   ]
  },
  {
   "cell_type": "markdown",
   "metadata": {
    "slideshow": {
     "slide_type": "slide"
    }
   },
   "source": [
    "## Major Monthly Spend by Expense Area: SERVICE PAYMENT"
   ]
  },
  {
   "cell_type": "markdown",
   "metadata": {
    "slideshow": {
     "slide_type": "fragment"
    }
   },
   "source": [
    "### CABINET OFFICE (100.00% of Description total, 4.69% of Cabinet Office total)"
   ]
  },
  {
   "cell_type": "markdown",
   "metadata": {},
   "source": [
    "- STERIA SHARED SERVICES: £989,253.80 (100.00% of corresponding Description cabinet office spend)"
   ]
  },
  {
   "cell_type": "markdown",
   "metadata": {
    "slideshow": {
     "slide_type": "subslide"
    }
   },
   "source": [
    "## SERVICE PAYMENT - STERIA SHARED SERVICES (CABINET OFFICE)  Major Suppliers"
   ]
  },
  {
   "cell_type": "markdown",
   "metadata": {},
   "source": [
    "Overall, this Expense Area accounts for __£989,253.80__ (100.00% of corresponding Description cabinet office spend)"
   ]
  },
  {
   "cell_type": "markdown",
   "metadata": {},
   "source": [
    "- SHARED SERVICES CONNECTED LTD: £989,253.80 (100.00% of corresponding spend)"
   ]
  },
  {
   "cell_type": "markdown",
   "metadata": {
    "slideshow": {
     "slide_type": "slide"
    }
   },
   "source": [
    "## Major Monthly Spends  - TELEPHONE SERVICES"
   ]
  },
  {
   "cell_type": "markdown",
   "metadata": {},
   "source": [
    "Total spend: £745,992.29 (3.53% of total Cabinet Office monthly spend)\n"
   ]
  },
  {
   "cell_type": "markdown",
   "metadata": {},
   "source": [
    "- CABINET OFFICE: £745,992.29 (100.00% of Description total, 3.53% of Cabinet Office total)"
   ]
  },
  {
   "cell_type": "markdown",
   "metadata": {
    "slideshow": {
     "slide_type": "slide"
    }
   },
   "source": [
    "## Major Monthly Spend by Expense Type: TELEPHONE SERVICES"
   ]
  },
  {
   "cell_type": "markdown",
   "metadata": {
    "slideshow": {
     "slide_type": "fragment"
    }
   },
   "source": [
    "### CABINET OFFICE (100.00% of Description total, 3.53% of Cabinet Office total)"
   ]
  },
  {
   "cell_type": "markdown",
   "metadata": {},
   "source": [
    "- TELECOM RENTALS: £712,279.14 (95.48% of corresponding Description cabinet office spend)"
   ]
  },
  {
   "cell_type": "markdown",
   "metadata": {
    "slideshow": {
     "slide_type": "subslide"
    }
   },
   "source": [
    "## TELEPHONE SERVICES - TELECOM RENTALS (CABINET OFFICE)  Major Suppliers"
   ]
  },
  {
   "cell_type": "markdown",
   "metadata": {},
   "source": [
    "Overall, this Expense Type accounts for __£712,279.14__ (95.48% of corresponding Description cabinet office spend)"
   ]
  },
  {
   "cell_type": "markdown",
   "metadata": {},
   "source": [
    "- MINISTRY OF DEFENCE: £554,104.47 (77.79% of corresponding spend)"
   ]
  },
  {
   "cell_type": "markdown",
   "metadata": {},
   "source": [
    "- 4NET TECHNOLOGIES LTD: £102,650.40 (14.41% of corresponding spend)"
   ]
  },
  {
   "cell_type": "markdown",
   "metadata": {
    "slideshow": {
     "slide_type": "slide"
    }
   },
   "source": [
    "## Major Monthly Spend by Expense Area: TELEPHONE SERVICES"
   ]
  },
  {
   "cell_type": "markdown",
   "metadata": {
    "slideshow": {
     "slide_type": "fragment"
    }
   },
   "source": [
    "### CABINET OFFICE (100.00% of Description total, 3.53% of Cabinet Office total)"
   ]
  },
  {
   "cell_type": "markdown",
   "metadata": {},
   "source": [
    "- CCS RESILIENT TELECOMMUNICATIONS: £554,104.47 (74.28% of corresponding Description cabinet office spend)"
   ]
  },
  {
   "cell_type": "markdown",
   "metadata": {},
   "source": [
    "- PMO ICTS: £102,650.40 (13.76% of corresponding Description cabinet office spend)"
   ]
  },
  {
   "cell_type": "markdown",
   "metadata": {
    "slideshow": {
     "slide_type": "subslide"
    }
   },
   "source": [
    "## TELEPHONE SERVICES - CCS RESILIENT TELECOMMUNICATIONS (CABINET OFFICE)  Major Suppliers"
   ]
  },
  {
   "cell_type": "markdown",
   "metadata": {},
   "source": [
    "Overall, this Expense Area accounts for __£554,104.47__ (74.28% of corresponding Description cabinet office spend)"
   ]
  },
  {
   "cell_type": "markdown",
   "metadata": {},
   "source": [
    "- MINISTRY OF DEFENCE: £554,104.47 (100.00% of corresponding spend)"
   ]
  },
  {
   "cell_type": "markdown",
   "metadata": {
    "slideshow": {
     "slide_type": "subslide"
    }
   },
   "source": [
    "## TELEPHONE SERVICES - PMO ICTS (CABINET OFFICE)  Major Suppliers"
   ]
  },
  {
   "cell_type": "markdown",
   "metadata": {},
   "source": [
    "Overall, this Expense Area accounts for __£102,650.40__ (13.76% of corresponding Description cabinet office spend)"
   ]
  },
  {
   "cell_type": "markdown",
   "metadata": {},
   "source": [
    "- 4NET TECHNOLOGIES LTD: £102,650.40 (100.00% of corresponding spend)"
   ]
  },
  {
   "cell_type": "markdown",
   "metadata": {
    "slideshow": {
     "slide_type": "slide"
    }
   },
   "source": [
    "## Major Monthly Spends  - FACILITIES MANAGEMENT"
   ]
  },
  {
   "cell_type": "markdown",
   "metadata": {},
   "source": [
    "Total spend: £683,662.24 (3.24% of total Cabinet Office monthly spend)\n"
   ]
  },
  {
   "cell_type": "markdown",
   "metadata": {},
   "source": [
    "- CABINET OFFICE: £633,700.59 (92.69% of Description total, 3.00% of Cabinet Office total)"
   ]
  },
  {
   "cell_type": "markdown",
   "metadata": {},
   "source": [
    "- CROWN COMMERCIAL SERVICE: £49,961.65 (7.31% of Description total, 0.24% of Cabinet Office total)"
   ]
  },
  {
   "cell_type": "markdown",
   "metadata": {
    "slideshow": {
     "slide_type": "slide"
    }
   },
   "source": [
    "## Major Monthly Spend by Expense Type: FACILITIES MANAGEMENT"
   ]
  },
  {
   "cell_type": "markdown",
   "metadata": {
    "slideshow": {
     "slide_type": "fragment"
    }
   },
   "source": [
    "### CABINET OFFICE (92.69% of Description total, 3.00% of Cabinet Office total)"
   ]
  },
  {
   "cell_type": "markdown",
   "metadata": {},
   "source": [
    "- FM CONTRACT FIXED COSTS: £633,700.59 (100.00% of corresponding Description cabinet office spend)"
   ]
  },
  {
   "cell_type": "markdown",
   "metadata": {
    "slideshow": {
     "slide_type": "fragment"
    }
   },
   "source": [
    "### CROWN COMMERCIAL SERVICE (7.31% of Description total, 0.24% of Cabinet Office total)"
   ]
  },
  {
   "cell_type": "markdown",
   "metadata": {},
   "source": [
    "- FM SERVICE CHARGES - CAPITAL BLDG: £49,961.65 (100.00% of corresponding Description crown commercial service spend)"
   ]
  },
  {
   "cell_type": "markdown",
   "metadata": {
    "slideshow": {
     "slide_type": "subslide"
    }
   },
   "source": [
    "## FACILITIES MANAGEMENT - FM CONTRACT FIXED COSTS (CABINET OFFICE)  Major Suppliers"
   ]
  },
  {
   "cell_type": "markdown",
   "metadata": {},
   "source": [
    "Overall, this Expense Type accounts for __£633,700.59__ (100.00% of corresponding Description cabinet office spend)"
   ]
  },
  {
   "cell_type": "markdown",
   "metadata": {},
   "source": [
    "- BOUYGUES E&S FM UK LTD: £584,159.01 (92.18% of corresponding spend)"
   ]
  },
  {
   "cell_type": "markdown",
   "metadata": {
    "slideshow": {
     "slide_type": "subslide"
    }
   },
   "source": [
    "## FACILITIES MANAGEMENT - FM SERVICE CHARGES - CAPITAL BLDG (CROWN COMMERCIAL SERVICE)  Major Suppliers"
   ]
  },
  {
   "cell_type": "markdown",
   "metadata": {},
   "source": [
    "Overall, this Expense Type accounts for __£49,961.65__ (100.00% of corresponding Description crown commercial service spend)"
   ]
  },
  {
   "cell_type": "markdown",
   "metadata": {},
   "source": [
    "- DTZ: £49,961.65 (100.00% of corresponding spend)"
   ]
  },
  {
   "cell_type": "markdown",
   "metadata": {
    "slideshow": {
     "slide_type": "slide"
    }
   },
   "source": [
    "## Major Monthly Spend by Expense Area: FACILITIES MANAGEMENT"
   ]
  },
  {
   "cell_type": "markdown",
   "metadata": {
    "slideshow": {
     "slide_type": "fragment"
    }
   },
   "source": [
    "### CABINET OFFICE (92.69% of Description total, 3.00% of Cabinet Office total)"
   ]
  },
  {
   "cell_type": "markdown",
   "metadata": {},
   "source": [
    "- TOTAL FM CONTRACT: £584,159.01 (92.18% of corresponding Description cabinet office spend)"
   ]
  },
  {
   "cell_type": "markdown",
   "metadata": {
    "slideshow": {
     "slide_type": "fragment"
    }
   },
   "source": [
    "### CROWN COMMERCIAL SERVICE (7.31% of Description total, 0.24% of Cabinet Office total)"
   ]
  },
  {
   "cell_type": "markdown",
   "metadata": {},
   "source": [
    "- ESTATES MANAGEMENT: £49,961.65 (100.00% of corresponding Description crown commercial service spend)"
   ]
  },
  {
   "cell_type": "markdown",
   "metadata": {
    "slideshow": {
     "slide_type": "subslide"
    }
   },
   "source": [
    "## FACILITIES MANAGEMENT - TOTAL FM CONTRACT (CABINET OFFICE)  Major Suppliers"
   ]
  },
  {
   "cell_type": "markdown",
   "metadata": {},
   "source": [
    "Overall, this Expense Area accounts for __£584,159.01__ (92.18% of corresponding Description cabinet office spend)"
   ]
  },
  {
   "cell_type": "markdown",
   "metadata": {},
   "source": [
    "- BOUYGUES E&S FM UK LTD: £584,159.01 (100.00% of corresponding spend)"
   ]
  },
  {
   "cell_type": "markdown",
   "metadata": {
    "slideshow": {
     "slide_type": "subslide"
    }
   },
   "source": [
    "## FACILITIES MANAGEMENT - ESTATES MANAGEMENT (CROWN COMMERCIAL SERVICE)  Major Suppliers"
   ]
  },
  {
   "cell_type": "markdown",
   "metadata": {},
   "source": [
    "Overall, this Expense Area accounts for __£49,961.65__ (100.00% of corresponding Description crown commercial service spend)"
   ]
  },
  {
   "cell_type": "markdown",
   "metadata": {},
   "source": [
    "- DTZ: £49,961.65 (100.00% of corresponding spend)"
   ]
  },
  {
   "cell_type": "markdown",
   "metadata": {
    "slideshow": {
     "slide_type": "slide"
    }
   },
   "source": [
    "## Major Monthly Spends  - LIBRARY SERVICES"
   ]
  },
  {
   "cell_type": "markdown",
   "metadata": {},
   "source": [
    "Total spend: £523,706.00 (2.48% of total Cabinet Office monthly spend)\n"
   ]
  },
  {
   "cell_type": "markdown",
   "metadata": {},
   "source": [
    "- CABINET OFFICE: £523,706.00 (100.00% of Description total, 2.48% of Cabinet Office total)"
   ]
  },
  {
   "cell_type": "markdown",
   "metadata": {
    "slideshow": {
     "slide_type": "slide"
    }
   },
   "source": [
    "## Major Monthly Spend by Expense Type: LIBRARY SERVICES"
   ]
  },
  {
   "cell_type": "markdown",
   "metadata": {
    "slideshow": {
     "slide_type": "fragment"
    }
   },
   "source": [
    "### CABINET OFFICE (100.00% of Description total, 2.48% of Cabinet Office total)"
   ]
  },
  {
   "cell_type": "markdown",
   "metadata": {},
   "source": [
    "- LIBRARY SERVICES - VAT RECOVERABLE: £523,706.00 (100.00% of corresponding Description cabinet office spend)"
   ]
  },
  {
   "cell_type": "markdown",
   "metadata": {
    "slideshow": {
     "slide_type": "subslide"
    }
   },
   "source": [
    "## LIBRARY SERVICES - LIBRARY SERVICES - VAT RECOVERABLE (CABINET OFFICE)  Major Suppliers"
   ]
  },
  {
   "cell_type": "markdown",
   "metadata": {},
   "source": [
    "Overall, this Expense Type accounts for __£523,706.00__ (100.00% of corresponding Description cabinet office spend)"
   ]
  },
  {
   "cell_type": "markdown",
   "metadata": {},
   "source": [
    "- THE COPYRIGHT LICENSING AGENCY LTD: £523,706.00 (100.00% of corresponding spend)"
   ]
  },
  {
   "cell_type": "markdown",
   "metadata": {
    "slideshow": {
     "slide_type": "slide"
    }
   },
   "source": [
    "## Major Monthly Spend by Expense Area: LIBRARY SERVICES"
   ]
  },
  {
   "cell_type": "markdown",
   "metadata": {
    "slideshow": {
     "slide_type": "fragment"
    }
   },
   "source": [
    "### CABINET OFFICE (100.00% of Description total, 2.48% of Cabinet Office total)"
   ]
  },
  {
   "cell_type": "markdown",
   "metadata": {},
   "source": [
    "- DEPT OVERHEADS MISC: £523,706.00 (100.00% of corresponding Description cabinet office spend)"
   ]
  },
  {
   "cell_type": "markdown",
   "metadata": {
    "slideshow": {
     "slide_type": "subslide"
    }
   },
   "source": [
    "## LIBRARY SERVICES - DEPT OVERHEADS MISC (CABINET OFFICE)  Major Suppliers"
   ]
  },
  {
   "cell_type": "markdown",
   "metadata": {},
   "source": [
    "Overall, this Expense Area accounts for __£523,706.00__ (100.00% of corresponding Description cabinet office spend)"
   ]
  },
  {
   "cell_type": "markdown",
   "metadata": {},
   "source": [
    "- THE COPYRIGHT LICENSING AGENCY LTD: £523,706.00 (100.00% of corresponding spend)"
   ]
  },
  {
   "cell_type": "markdown",
   "metadata": {
    "slideshow": {
     "slide_type": "slide"
    }
   },
   "source": [
    "## Major Monthly Spends  - TELEPHONE CHARGES"
   ]
  },
  {
   "cell_type": "markdown",
   "metadata": {},
   "source": [
    "Total spend: £423,142.44 (2.00% of total Cabinet Office monthly spend)\n"
   ]
  },
  {
   "cell_type": "markdown",
   "metadata": {},
   "source": [
    "- CABINET OFFICE: £423,142.44 (100.00% of Description total, 2.00% of Cabinet Office total)"
   ]
  },
  {
   "cell_type": "markdown",
   "metadata": {
    "slideshow": {
     "slide_type": "slide"
    }
   },
   "source": [
    "## Major Monthly Spend by Expense Type: TELEPHONE CHARGES"
   ]
  },
  {
   "cell_type": "markdown",
   "metadata": {
    "slideshow": {
     "slide_type": "fragment"
    }
   },
   "source": [
    "### CABINET OFFICE (100.00% of Description total, 2.00% of Cabinet Office total)"
   ]
  },
  {
   "cell_type": "markdown",
   "metadata": {},
   "source": [
    "- CALL CHARGES: £423,142.44 (100.00% of corresponding Description cabinet office spend)"
   ]
  },
  {
   "cell_type": "markdown",
   "metadata": {
    "slideshow": {
     "slide_type": "subslide"
    }
   },
   "source": [
    "## TELEPHONE CHARGES - CALL CHARGES (CABINET OFFICE)  Major Suppliers"
   ]
  },
  {
   "cell_type": "markdown",
   "metadata": {},
   "source": [
    "Overall, this Expense Type accounts for __£423,142.44__ (100.00% of corresponding Description cabinet office spend)"
   ]
  },
  {
   "cell_type": "markdown",
   "metadata": {},
   "source": [
    "- LEVEL 3: £289,788.39 (68.48% of corresponding spend)"
   ]
  },
  {
   "cell_type": "markdown",
   "metadata": {},
   "source": [
    "- TELEFONICA UK LTD: £133,354.05 (31.52% of corresponding spend)"
   ]
  },
  {
   "cell_type": "markdown",
   "metadata": {
    "slideshow": {
     "slide_type": "slide"
    }
   },
   "source": [
    "## Major Monthly Spend by Expense Area: TELEPHONE CHARGES"
   ]
  },
  {
   "cell_type": "markdown",
   "metadata": {
    "slideshow": {
     "slide_type": "fragment"
    }
   },
   "source": [
    "### CABINET OFFICE (100.00% of Description total, 2.00% of Cabinet Office total)"
   ]
  },
  {
   "cell_type": "markdown",
   "metadata": {},
   "source": [
    "- CABINET OFFICE DIGITAL AND TECHNOLOGY TEAM: £229,423.82 (54.22% of corresponding Description cabinet office spend)"
   ]
  },
  {
   "cell_type": "markdown",
   "metadata": {},
   "source": [
    "- DIGITAL & TECHNOLOGY INFRASTRUCTURE TEAM: £193,718.62 (45.78% of corresponding Description cabinet office spend)"
   ]
  },
  {
   "cell_type": "markdown",
   "metadata": {
    "slideshow": {
     "slide_type": "subslide"
    }
   },
   "source": [
    "## TELEPHONE CHARGES - CABINET OFFICE DIGITAL AND TECHNOLOGY TEAM (CABINET OFFICE)  Major Suppliers"
   ]
  },
  {
   "cell_type": "markdown",
   "metadata": {},
   "source": [
    "Overall, this Expense Area accounts for __£229,423.82__ (54.22% of corresponding Description cabinet office spend)"
   ]
  },
  {
   "cell_type": "markdown",
   "metadata": {},
   "source": [
    "- TELEFONICA UK LTD: £133,354.05 (58.13% of corresponding spend)"
   ]
  },
  {
   "cell_type": "markdown",
   "metadata": {},
   "source": [
    "- LEVEL 3: £96,069.77 (41.87% of corresponding spend)"
   ]
  },
  {
   "cell_type": "markdown",
   "metadata": {
    "slideshow": {
     "slide_type": "subslide"
    }
   },
   "source": [
    "## TELEPHONE CHARGES - DIGITAL & TECHNOLOGY INFRASTRUCTURE TEAM (CABINET OFFICE)  Major Suppliers"
   ]
  },
  {
   "cell_type": "markdown",
   "metadata": {},
   "source": [
    "Overall, this Expense Area accounts for __£193,718.62__ (45.78% of corresponding Description cabinet office spend)"
   ]
  },
  {
   "cell_type": "markdown",
   "metadata": {},
   "source": [
    "- LEVEL 3: £193,718.62 (100.00% of corresponding spend)"
   ]
  },
  {
   "cell_type": "markdown",
   "metadata": {
    "slideshow": {
     "slide_type": "slide"
    }
   },
   "source": [
    "## Major Monthly Spends  - IMPLEMENTATION OF INDIVIDUAL ELECTORAL REGISTRATION"
   ]
  },
  {
   "cell_type": "markdown",
   "metadata": {},
   "source": [
    "Total spend: £363,937.94 (1.72% of total Cabinet Office monthly spend)\n"
   ]
  },
  {
   "cell_type": "markdown",
   "metadata": {},
   "source": [
    "- CABINET OFFICE: £363,937.94 (100.00% of Description total, 1.72% of Cabinet Office total)"
   ]
  },
  {
   "cell_type": "markdown",
   "metadata": {
    "slideshow": {
     "slide_type": "slide"
    }
   },
   "source": [
    "## Major Monthly Spend by Expense Type: IMPLEMENTATION OF INDIVIDUAL ELECTORAL REGISTRATION"
   ]
  },
  {
   "cell_type": "markdown",
   "metadata": {
    "slideshow": {
     "slide_type": "fragment"
    }
   },
   "source": [
    "### CABINET OFFICE (100.00% of Description total, 1.72% of Cabinet Office total)"
   ]
  },
  {
   "cell_type": "markdown",
   "metadata": {},
   "source": [
    "- INDIVIDUAL ELECTORAL REGISTRATION COSTS: £291,479.00 (80.09% of corresponding Description cabinet office spend)"
   ]
  },
  {
   "cell_type": "markdown",
   "metadata": {},
   "source": [
    "- RESOURCE GRANTS LOCAL AUTHORIT: £72,458.94 (19.91% of corresponding Description cabinet office spend)"
   ]
  },
  {
   "cell_type": "markdown",
   "metadata": {
    "slideshow": {
     "slide_type": "subslide"
    }
   },
   "source": [
    "## IMPLEMENTATION OF INDIVIDUAL ELECTORAL REGISTRATION - INDIVIDUAL ELECTORAL REGISTRATION COSTS (CABINET OFFICE)  Major Suppliers"
   ]
  },
  {
   "cell_type": "markdown",
   "metadata": {},
   "source": [
    "Overall, this Expense Type accounts for __£291,479.00__ (80.09% of corresponding Description cabinet office spend)"
   ]
  },
  {
   "cell_type": "markdown",
   "metadata": {},
   "source": [
    "- LOTHIAN VALUATION JOINT BOARD: £291,479.00 (100.00% of corresponding spend)"
   ]
  },
  {
   "cell_type": "markdown",
   "metadata": {
    "slideshow": {
     "slide_type": "subslide"
    }
   },
   "source": [
    "## IMPLEMENTATION OF INDIVIDUAL ELECTORAL REGISTRATION - RESOURCE GRANTS LOCAL AUTHORIT (CABINET OFFICE)  Major Suppliers"
   ]
  },
  {
   "cell_type": "markdown",
   "metadata": {},
   "source": [
    "Overall, this Expense Type accounts for __£72,458.94__ (19.91% of corresponding Description cabinet office spend)"
   ]
  },
  {
   "cell_type": "markdown",
   "metadata": {},
   "source": [
    "- NORTH NORFOLK DISTRICT COUNCIL: £45,004.00 (62.11% of corresponding spend)"
   ]
  },
  {
   "cell_type": "markdown",
   "metadata": {},
   "source": [
    "- LEEDS CITY COUNCIL: £27,454.94 (37.89% of corresponding spend)"
   ]
  },
  {
   "cell_type": "markdown",
   "metadata": {
    "slideshow": {
     "slide_type": "slide"
    }
   },
   "source": [
    "## Major Monthly Spend by Expense Area: IMPLEMENTATION OF INDIVIDUAL ELECTORAL REGISTRATION"
   ]
  },
  {
   "cell_type": "markdown",
   "metadata": {
    "slideshow": {
     "slide_type": "fragment"
    }
   },
   "source": [
    "### CABINET OFFICE (100.00% of Description total, 1.72% of Cabinet Office total)"
   ]
  },
  {
   "cell_type": "markdown",
   "metadata": {},
   "source": [
    "- ELECTORAL REGISTRATION TRANSFORMATION PROGRAMME: £363,937.94 (100.00% of corresponding Description cabinet office spend)"
   ]
  },
  {
   "cell_type": "markdown",
   "metadata": {
    "slideshow": {
     "slide_type": "subslide"
    }
   },
   "source": [
    "## IMPLEMENTATION OF INDIVIDUAL ELECTORAL REGISTRATION - ELECTORAL REGISTRATION TRANSFORMATION PROGRAMME (CABINET OFFICE)  Major Suppliers"
   ]
  },
  {
   "cell_type": "markdown",
   "metadata": {},
   "source": [
    "Overall, this Expense Area accounts for __£363,937.94__ (100.00% of corresponding Description cabinet office spend)"
   ]
  },
  {
   "cell_type": "markdown",
   "metadata": {},
   "source": [
    "- LOTHIAN VALUATION JOINT BOARD: £291,479.00 (80.09% of corresponding spend)"
   ]
  },
  {
   "cell_type": "markdown",
   "metadata": {},
   "source": [
    "- NORTH NORFOLK DISTRICT COUNCIL: £45,004.00 (12.37% of corresponding spend)"
   ]
  },
  {
   "cell_type": "markdown",
   "metadata": {
    "slideshow": {
     "slide_type": "slide"
    }
   },
   "source": [
    "## Major Monthly Spends  - DATA MATCHING SERVICES"
   ]
  },
  {
   "cell_type": "markdown",
   "metadata": {},
   "source": [
    "Total spend: £353,968.20 (1.68% of total Cabinet Office monthly spend)\n"
   ]
  },
  {
   "cell_type": "markdown",
   "metadata": {},
   "source": [
    "- CABINET OFFICE: £353,968.20 (100.00% of Description total, 1.68% of Cabinet Office total)"
   ]
  },
  {
   "cell_type": "markdown",
   "metadata": {
    "slideshow": {
     "slide_type": "slide"
    }
   },
   "source": [
    "## Major Monthly Spend by Expense Type: DATA MATCHING SERVICES"
   ]
  },
  {
   "cell_type": "markdown",
   "metadata": {
    "slideshow": {
     "slide_type": "fragment"
    }
   },
   "source": [
    "### CABINET OFFICE (100.00% of Description total, 1.68% of Cabinet Office total)"
   ]
  },
  {
   "cell_type": "markdown",
   "metadata": {},
   "source": [
    "- DATA MATCHING: £353,968.20 (100.00% of corresponding Description cabinet office spend)"
   ]
  },
  {
   "cell_type": "markdown",
   "metadata": {
    "slideshow": {
     "slide_type": "subslide"
    }
   },
   "source": [
    "## DATA MATCHING SERVICES - DATA MATCHING (CABINET OFFICE)  Major Suppliers"
   ]
  },
  {
   "cell_type": "markdown",
   "metadata": {},
   "source": [
    "Overall, this Expense Type accounts for __£353,968.20__ (100.00% of corresponding Description cabinet office spend)"
   ]
  },
  {
   "cell_type": "markdown",
   "metadata": {},
   "source": [
    "- SYNECTICS SOLUTIONS LIMITED: £353,968.20 (100.00% of corresponding spend)"
   ]
  },
  {
   "cell_type": "markdown",
   "metadata": {
    "slideshow": {
     "slide_type": "slide"
    }
   },
   "source": [
    "## Major Monthly Spend by Expense Area: DATA MATCHING SERVICES"
   ]
  },
  {
   "cell_type": "markdown",
   "metadata": {
    "slideshow": {
     "slide_type": "fragment"
    }
   },
   "source": [
    "### CABINET OFFICE (100.00% of Description total, 1.68% of Cabinet Office total)"
   ]
  },
  {
   "cell_type": "markdown",
   "metadata": {},
   "source": [
    "- ERG FRAUD ERROR AND DEBT: £353,968.20 (100.00% of corresponding Description cabinet office spend)"
   ]
  },
  {
   "cell_type": "markdown",
   "metadata": {
    "slideshow": {
     "slide_type": "subslide"
    }
   },
   "source": [
    "## DATA MATCHING SERVICES - ERG FRAUD ERROR AND DEBT (CABINET OFFICE)  Major Suppliers"
   ]
  },
  {
   "cell_type": "markdown",
   "metadata": {},
   "source": [
    "Overall, this Expense Area accounts for __£353,968.20__ (100.00% of corresponding Description cabinet office spend)"
   ]
  },
  {
   "cell_type": "markdown",
   "metadata": {},
   "source": [
    "- SYNECTICS SOLUTIONS LIMITED: £353,968.20 (100.00% of corresponding spend)"
   ]
  },
  {
   "cell_type": "markdown",
   "metadata": {
    "slideshow": {
     "slide_type": "slide"
    }
   },
   "source": [
    "## Major Monthly Spends  - RECRUITMENT AND SELECTION SERVICES"
   ]
  },
  {
   "cell_type": "markdown",
   "metadata": {},
   "source": [
    "Total spend: £303,150.00 (1.44% of total Cabinet Office monthly spend)\n"
   ]
  },
  {
   "cell_type": "markdown",
   "metadata": {},
   "source": [
    "- CABINET OFFICE: £303,150.00 (100.00% of Description total, 1.44% of Cabinet Office total)"
   ]
  },
  {
   "cell_type": "markdown",
   "metadata": {
    "slideshow": {
     "slide_type": "slide"
    }
   },
   "source": [
    "## Major Monthly Spend by Expense Type: RECRUITMENT AND SELECTION SERVICES"
   ]
  },
  {
   "cell_type": "markdown",
   "metadata": {
    "slideshow": {
     "slide_type": "fragment"
    }
   },
   "source": [
    "### CABINET OFFICE (100.00% of Description total, 1.44% of Cabinet Office total)"
   ]
  },
  {
   "cell_type": "markdown",
   "metadata": {},
   "source": [
    "- STAFF RELATED COSTS: £258,300.00 (85.21% of corresponding Description cabinet office spend)"
   ]
  },
  {
   "cell_type": "markdown",
   "metadata": {},
   "source": [
    "- STAFF TRAINING VAT RECOVERABLE: £44,850.00 (14.79% of corresponding Description cabinet office spend)"
   ]
  },
  {
   "cell_type": "markdown",
   "metadata": {
    "slideshow": {
     "slide_type": "subslide"
    }
   },
   "source": [
    "## RECRUITMENT AND SELECTION SERVICES - STAFF RELATED COSTS (CABINET OFFICE)  Major Suppliers"
   ]
  },
  {
   "cell_type": "markdown",
   "metadata": {},
   "source": [
    "Overall, this Expense Type accounts for __£258,300.00__ (85.21% of corresponding Description cabinet office spend)"
   ]
  },
  {
   "cell_type": "markdown",
   "metadata": {},
   "source": [
    "- CAPITA BUSINESS SERVICES LTD: £258,300.00 (100.00% of corresponding spend)"
   ]
  },
  {
   "cell_type": "markdown",
   "metadata": {
    "slideshow": {
     "slide_type": "subslide"
    }
   },
   "source": [
    "## RECRUITMENT AND SELECTION SERVICES - STAFF TRAINING VAT RECOVERABLE (CABINET OFFICE)  Major Suppliers"
   ]
  },
  {
   "cell_type": "markdown",
   "metadata": {},
   "source": [
    "Overall, this Expense Type accounts for __£44,850.00__ (14.79% of corresponding Description cabinet office spend)"
   ]
  },
  {
   "cell_type": "markdown",
   "metadata": {},
   "source": [
    "- CAPITA BUSINESS SERVICES LTD: £44,850.00 (100.00% of corresponding spend)"
   ]
  },
  {
   "cell_type": "markdown",
   "metadata": {
    "slideshow": {
     "slide_type": "slide"
    }
   },
   "source": [
    "## Major Monthly Spend by Expense Area: RECRUITMENT AND SELECTION SERVICES"
   ]
  },
  {
   "cell_type": "markdown",
   "metadata": {
    "slideshow": {
     "slide_type": "fragment"
    }
   },
   "source": [
    "### CABINET OFFICE (100.00% of Description total, 1.44% of Cabinet Office total)"
   ]
  },
  {
   "cell_type": "markdown",
   "metadata": {},
   "source": [
    "- ERG CIVIL SERVICE TALENT: £303,150.00 (100.00% of corresponding Description cabinet office spend)"
   ]
  },
  {
   "cell_type": "markdown",
   "metadata": {
    "slideshow": {
     "slide_type": "subslide"
    }
   },
   "source": [
    "## RECRUITMENT AND SELECTION SERVICES - ERG CIVIL SERVICE TALENT (CABINET OFFICE)  Major Suppliers"
   ]
  },
  {
   "cell_type": "markdown",
   "metadata": {},
   "source": [
    "Overall, this Expense Area accounts for __£303,150.00__ (100.00% of corresponding Description cabinet office spend)"
   ]
  },
  {
   "cell_type": "markdown",
   "metadata": {},
   "source": [
    "- CAPITA BUSINESS SERVICES LTD: £303,150.00 (100.00% of corresponding spend)"
   ]
  },
  {
   "cell_type": "markdown",
   "metadata": {
    "slideshow": {
     "slide_type": "slide"
    }
   },
   "source": [
    "## Major Monthly Spends  - PROFESSIONAL PROPERTY ADVICE"
   ]
  },
  {
   "cell_type": "markdown",
   "metadata": {},
   "source": [
    "Total spend: £198,856.00 (0.94% of total Cabinet Office monthly spend)\n"
   ]
  },
  {
   "cell_type": "markdown",
   "metadata": {},
   "source": [
    "- CABINET OFFICE: £198,856.00 (100.00% of Description total, 0.94% of Cabinet Office total)"
   ]
  },
  {
   "cell_type": "markdown",
   "metadata": {
    "slideshow": {
     "slide_type": "slide"
    }
   },
   "source": [
    "## Major Monthly Spend by Expense Type: PROFESSIONAL PROPERTY ADVICE"
   ]
  },
  {
   "cell_type": "markdown",
   "metadata": {
    "slideshow": {
     "slide_type": "fragment"
    }
   },
   "source": [
    "### CABINET OFFICE (100.00% of Description total, 0.94% of Cabinet Office total)"
   ]
  },
  {
   "cell_type": "markdown",
   "metadata": {},
   "source": [
    "- PROFESSIONAL ADVICE & OPINION VAT RECOVERABLE: £198,856.00 (100.00% of corresponding Description cabinet office spend)"
   ]
  },
  {
   "cell_type": "markdown",
   "metadata": {
    "slideshow": {
     "slide_type": "subslide"
    }
   },
   "source": [
    "## PROFESSIONAL PROPERTY ADVICE - PROFESSIONAL ADVICE & OPINION VAT RECOVERABLE (CABINET OFFICE)  Major Suppliers"
   ]
  },
  {
   "cell_type": "markdown",
   "metadata": {},
   "source": [
    "Overall, this Expense Type accounts for __£198,856.00__ (100.00% of corresponding Description cabinet office spend)"
   ]
  },
  {
   "cell_type": "markdown",
   "metadata": {},
   "source": [
    "- BOUYGUES E&S FM UK LTD: £128,856.00 (64.80% of corresponding spend)"
   ]
  },
  {
   "cell_type": "markdown",
   "metadata": {},
   "source": [
    "- EVERSHEDS LLP: £70,000.00 (35.20% of corresponding spend)"
   ]
  },
  {
   "cell_type": "markdown",
   "metadata": {
    "slideshow": {
     "slide_type": "slide"
    }
   },
   "source": [
    "## Major Monthly Spend by Expense Area: PROFESSIONAL PROPERTY ADVICE"
   ]
  },
  {
   "cell_type": "markdown",
   "metadata": {
    "slideshow": {
     "slide_type": "fragment"
    }
   },
   "source": [
    "### CABINET OFFICE (100.00% of Description total, 0.94% of Cabinet Office total)"
   ]
  },
  {
   "cell_type": "markdown",
   "metadata": {},
   "source": [
    "- HUB MEMPHIS: £198,856.00 (100.00% of corresponding Description cabinet office spend)"
   ]
  },
  {
   "cell_type": "markdown",
   "metadata": {
    "slideshow": {
     "slide_type": "subslide"
    }
   },
   "source": [
    "## PROFESSIONAL PROPERTY ADVICE - HUB MEMPHIS (CABINET OFFICE)  Major Suppliers"
   ]
  },
  {
   "cell_type": "markdown",
   "metadata": {},
   "source": [
    "Overall, this Expense Area accounts for __£198,856.00__ (100.00% of corresponding Description cabinet office spend)"
   ]
  },
  {
   "cell_type": "markdown",
   "metadata": {},
   "source": [
    "- BOUYGUES E&S FM UK LTD: £128,856.00 (64.80% of corresponding spend)"
   ]
  },
  {
   "cell_type": "markdown",
   "metadata": {},
   "source": [
    "- EVERSHEDS LLP: £70,000.00 (35.20% of corresponding spend)"
   ]
  },
  {
   "cell_type": "markdown",
   "metadata": {
    "slideshow": {
     "slide_type": "slide"
    }
   },
   "source": [
    "## Major Monthly Spends  - PROFESSIONAL PROPERTY ADVICE AND SERVICES"
   ]
  },
  {
   "cell_type": "markdown",
   "metadata": {},
   "source": [
    "Total spend: £185,561.81 (0.88% of total Cabinet Office monthly spend)\n"
   ]
  },
  {
   "cell_type": "markdown",
   "metadata": {},
   "source": [
    "- CABINET OFFICE: £185,561.81 (100.00% of Description total, 0.88% of Cabinet Office total)"
   ]
  },
  {
   "cell_type": "markdown",
   "metadata": {
    "slideshow": {
     "slide_type": "slide"
    }
   },
   "source": [
    "## Major Monthly Spend by Expense Type: PROFESSIONAL PROPERTY ADVICE AND SERVICES"
   ]
  },
  {
   "cell_type": "markdown",
   "metadata": {
    "slideshow": {
     "slide_type": "fragment"
    }
   },
   "source": [
    "### CABINET OFFICE (100.00% of Description total, 0.88% of Cabinet Office total)"
   ]
  },
  {
   "cell_type": "markdown",
   "metadata": {},
   "source": [
    "- FM CONTRACT FIXED COSTS: £185,561.81 (100.00% of corresponding Description cabinet office spend)"
   ]
  },
  {
   "cell_type": "markdown",
   "metadata": {
    "slideshow": {
     "slide_type": "subslide"
    }
   },
   "source": [
    "## PROFESSIONAL PROPERTY ADVICE AND SERVICES - FM CONTRACT FIXED COSTS (CABINET OFFICE)  Major Suppliers"
   ]
  },
  {
   "cell_type": "markdown",
   "metadata": {},
   "source": [
    "Overall, this Expense Type accounts for __£185,561.81__ (100.00% of corresponding Description cabinet office spend)"
   ]
  },
  {
   "cell_type": "markdown",
   "metadata": {},
   "source": [
    "- BOUYGUES E&S FM UK LTD: £185,561.81 (100.00% of corresponding spend)"
   ]
  },
  {
   "cell_type": "markdown",
   "metadata": {
    "slideshow": {
     "slide_type": "slide"
    }
   },
   "source": [
    "## Major Monthly Spend by Expense Area: PROFESSIONAL PROPERTY ADVICE AND SERVICES"
   ]
  },
  {
   "cell_type": "markdown",
   "metadata": {
    "slideshow": {
     "slide_type": "fragment"
    }
   },
   "source": [
    "### CABINET OFFICE (100.00% of Description total, 0.88% of Cabinet Office total)"
   ]
  },
  {
   "cell_type": "markdown",
   "metadata": {},
   "source": [
    "- NSS CRISIS MANAGEMENT: £185,561.81 (100.00% of corresponding Description cabinet office spend)"
   ]
  },
  {
   "cell_type": "markdown",
   "metadata": {
    "slideshow": {
     "slide_type": "subslide"
    }
   },
   "source": [
    "## PROFESSIONAL PROPERTY ADVICE AND SERVICES - NSS CRISIS MANAGEMENT (CABINET OFFICE)  Major Suppliers"
   ]
  },
  {
   "cell_type": "markdown",
   "metadata": {},
   "source": [
    "Overall, this Expense Area accounts for __£185,561.81__ (100.00% of corresponding Description cabinet office spend)"
   ]
  },
  {
   "cell_type": "markdown",
   "metadata": {},
   "source": [
    "- BOUYGUES E&S FM UK LTD: £185,561.81 (100.00% of corresponding spend)"
   ]
  },
  {
   "cell_type": "markdown",
   "metadata": {
    "slideshow": {
     "slide_type": "slide"
    }
   },
   "source": [
    "## Major Monthly Spends  - PROFESSIONAL SERVICES"
   ]
  },
  {
   "cell_type": "markdown",
   "metadata": {},
   "source": [
    "Total spend: £166,665.37 (0.79% of total Cabinet Office monthly spend)\n"
   ]
  },
  {
   "cell_type": "markdown",
   "metadata": {},
   "source": [
    "- CABINET OFFICE: £166,665.37 (100.00% of Description total, 0.79% of Cabinet Office total)"
   ]
  },
  {
   "cell_type": "markdown",
   "metadata": {
    "slideshow": {
     "slide_type": "slide"
    }
   },
   "source": [
    "## Major Monthly Spend by Expense Type: PROFESSIONAL SERVICES"
   ]
  },
  {
   "cell_type": "markdown",
   "metadata": {
    "slideshow": {
     "slide_type": "fragment"
    }
   },
   "source": [
    "### CABINET OFFICE (100.00% of Description total, 0.79% of Cabinet Office total)"
   ]
  },
  {
   "cell_type": "markdown",
   "metadata": {},
   "source": [
    "- PROFESSIONAL SERVICES NON VAT RECOVERABLE: £91,980.00 (55.19% of corresponding Description cabinet office spend)"
   ]
  },
  {
   "cell_type": "markdown",
   "metadata": {},
   "source": [
    "- ADDITIONSAUC F/H NON RES BLDGS: £74,685.37 (44.81% of corresponding Description cabinet office spend)"
   ]
  },
  {
   "cell_type": "markdown",
   "metadata": {
    "slideshow": {
     "slide_type": "subslide"
    }
   },
   "source": [
    "## PROFESSIONAL SERVICES - PROFESSIONAL SERVICES NON VAT RECOVERABLE (CABINET OFFICE)  Major Suppliers"
   ]
  },
  {
   "cell_type": "markdown",
   "metadata": {},
   "source": [
    "Overall, this Expense Type accounts for __£91,980.00__ (55.19% of corresponding Description cabinet office spend)"
   ]
  },
  {
   "cell_type": "markdown",
   "metadata": {},
   "source": [
    "- JLL: £91,980.00 (100.00% of corresponding spend)"
   ]
  },
  {
   "cell_type": "markdown",
   "metadata": {
    "slideshow": {
     "slide_type": "subslide"
    }
   },
   "source": [
    "## PROFESSIONAL SERVICES - ADDITIONSAUC F/H NON RES BLDGS (CABINET OFFICE)  Major Suppliers"
   ]
  },
  {
   "cell_type": "markdown",
   "metadata": {},
   "source": [
    "Overall, this Expense Type accounts for __£74,685.37__ (44.81% of corresponding Description cabinet office spend)"
   ]
  },
  {
   "cell_type": "markdown",
   "metadata": {},
   "source": [
    "- BOUYGUES E&S FM UK LTD: £74,685.37 (100.00% of corresponding spend)"
   ]
  },
  {
   "cell_type": "markdown",
   "metadata": {
    "slideshow": {
     "slide_type": "slide"
    }
   },
   "source": [
    "## Major Monthly Spend by Expense Area: PROFESSIONAL SERVICES"
   ]
  },
  {
   "cell_type": "markdown",
   "metadata": {
    "slideshow": {
     "slide_type": "fragment"
    }
   },
   "source": [
    "### CABINET OFFICE (100.00% of Description total, 0.79% of Cabinet Office total)"
   ]
  },
  {
   "cell_type": "markdown",
   "metadata": {},
   "source": [
    "- HUB CROYDON: £91,980.00 (55.19% of corresponding Description cabinet office spend)"
   ]
  },
  {
   "cell_type": "markdown",
   "metadata": {},
   "source": [
    "- MODERNISATION PROGRAMME DS 13/14: £74,685.37 (44.81% of corresponding Description cabinet office spend)"
   ]
  },
  {
   "cell_type": "markdown",
   "metadata": {
    "slideshow": {
     "slide_type": "subslide"
    }
   },
   "source": [
    "## PROFESSIONAL SERVICES - HUB CROYDON (CABINET OFFICE)  Major Suppliers"
   ]
  },
  {
   "cell_type": "markdown",
   "metadata": {},
   "source": [
    "Overall, this Expense Area accounts for __£91,980.00__ (55.19% of corresponding Description cabinet office spend)"
   ]
  },
  {
   "cell_type": "markdown",
   "metadata": {},
   "source": [
    "- JLL: £91,980.00 (100.00% of corresponding spend)"
   ]
  },
  {
   "cell_type": "markdown",
   "metadata": {
    "slideshow": {
     "slide_type": "subslide"
    }
   },
   "source": [
    "## PROFESSIONAL SERVICES - MODERNISATION PROGRAMME DS 13/14 (CABINET OFFICE)  Major Suppliers"
   ]
  },
  {
   "cell_type": "markdown",
   "metadata": {},
   "source": [
    "Overall, this Expense Area accounts for __£74,685.37__ (44.81% of corresponding Description cabinet office spend)"
   ]
  },
  {
   "cell_type": "markdown",
   "metadata": {},
   "source": [
    "- BOUYGUES E&S FM UK LTD: £74,685.37 (100.00% of corresponding spend)"
   ]
  },
  {
   "cell_type": "markdown",
   "metadata": {
    "slideshow": {
     "slide_type": "slide"
    }
   },
   "source": [
    "## Major Monthly Spends  - RATES"
   ]
  },
  {
   "cell_type": "markdown",
   "metadata": {},
   "source": [
    "Total spend: £165,921.81 (0.79% of total Cabinet Office monthly spend)\n"
   ]
  },
  {
   "cell_type": "markdown",
   "metadata": {},
   "source": [
    "- CROWN COMMERCIAL SERVICE: £165,921.81 (100.00% of Description total, 0.79% of Cabinet Office total)"
   ]
  },
  {
   "cell_type": "markdown",
   "metadata": {
    "slideshow": {
     "slide_type": "slide"
    }
   },
   "source": [
    "## Major Monthly Spend by Expense Type: RATES"
   ]
  },
  {
   "cell_type": "markdown",
   "metadata": {
    "slideshow": {
     "slide_type": "fragment"
    }
   },
   "source": [
    "### CROWN COMMERCIAL SERVICE (100.00% of Description total, 0.79% of Cabinet Office total)"
   ]
  },
  {
   "cell_type": "markdown",
   "metadata": {},
   "source": [
    "- MOTO CHARGES RC: £165,921.81 (100.00% of corresponding Description crown commercial service spend)"
   ]
  },
  {
   "cell_type": "markdown",
   "metadata": {
    "slideshow": {
     "slide_type": "slide"
    }
   },
   "source": [
    "## Major Monthly Spend by Expense Area: RATES"
   ]
  },
  {
   "cell_type": "markdown",
   "metadata": {
    "slideshow": {
     "slide_type": "fragment"
    }
   },
   "source": [
    "### CROWN COMMERCIAL SERVICE (100.00% of Description total, 0.79% of Cabinet Office total)"
   ]
  },
  {
   "cell_type": "markdown",
   "metadata": {},
   "source": [
    "- ESTATES MANAGEMENT: £165,921.81 (100.00% of corresponding Description crown commercial service spend)"
   ]
  },
  {
   "cell_type": "markdown",
   "metadata": {
    "slideshow": {
     "slide_type": "slide"
    }
   },
   "source": [
    "## Major Monthly Spends  - CUSTOMER RELATIONSHIP MANAGEMENT SYSTEM"
   ]
  },
  {
   "cell_type": "markdown",
   "metadata": {},
   "source": [
    "Total spend: £165,000.00 (0.78% of total Cabinet Office monthly spend)\n"
   ]
  },
  {
   "cell_type": "markdown",
   "metadata": {},
   "source": [
    "- CROWN COMMERCIAL SERVICE: £165,000.00 (100.00% of Description total, 0.78% of Cabinet Office total)"
   ]
  },
  {
   "cell_type": "markdown",
   "metadata": {
    "slideshow": {
     "slide_type": "slide"
    }
   },
   "source": [
    "## Major Monthly Spend by Expense Type: CUSTOMER RELATIONSHIP MANAGEMENT SYSTEM"
   ]
  },
  {
   "cell_type": "markdown",
   "metadata": {
    "slideshow": {
     "slide_type": "fragment"
    }
   },
   "source": [
    "### CROWN COMMERCIAL SERVICE (100.00% of Description total, 0.78% of Cabinet Office total)"
   ]
  },
  {
   "cell_type": "markdown",
   "metadata": {},
   "source": [
    "- CCS TECH, DEVELOPMEN: £165,000.00 (100.00% of corresponding Description crown commercial service spend)"
   ]
  },
  {
   "cell_type": "markdown",
   "metadata": {
    "slideshow": {
     "slide_type": "slide"
    }
   },
   "source": [
    "## Major Monthly Spend by Expense Area: CUSTOMER RELATIONSHIP MANAGEMENT SYSTEM"
   ]
  },
  {
   "cell_type": "markdown",
   "metadata": {
    "slideshow": {
     "slide_type": "fragment"
    }
   },
   "source": [
    "### CROWN COMMERCIAL SERVICE (100.00% of Description total, 0.78% of Cabinet Office total)"
   ]
  },
  {
   "cell_type": "markdown",
   "metadata": {},
   "source": [
    "- DIGITAL TECHNOLOGY PLATFORM: £165,000.00 (100.00% of corresponding Description crown commercial service spend)"
   ]
  },
  {
   "cell_type": "markdown",
   "metadata": {
    "slideshow": {
     "slide_type": "slide"
    }
   },
   "source": [
    "## Major Monthly Spends  - CONSULTANCY"
   ]
  },
  {
   "cell_type": "markdown",
   "metadata": {},
   "source": [
    "Total spend: £155,972.22 (0.74% of total Cabinet Office monthly spend)\n"
   ]
  },
  {
   "cell_type": "markdown",
   "metadata": {},
   "source": [
    "- CROWN COMMERCIAL SERVICE: £155,972.22 (100.00% of Description total, 0.74% of Cabinet Office total)"
   ]
  },
  {
   "cell_type": "markdown",
   "metadata": {
    "slideshow": {
     "slide_type": "slide"
    }
   },
   "source": [
    "## Major Monthly Spend by Expense Type: CONSULTANCY"
   ]
  },
  {
   "cell_type": "markdown",
   "metadata": {
    "slideshow": {
     "slide_type": "fragment"
    }
   },
   "source": [
    "### CROWN COMMERCIAL SERVICE (100.00% of Description total, 0.74% of Cabinet Office total)"
   ]
  },
  {
   "cell_type": "markdown",
   "metadata": {},
   "source": [
    "- CONSULTANCY FEES (ADVICE): £88,686.00 (56.86% of corresponding Description crown commercial service spend)"
   ]
  },
  {
   "cell_type": "markdown",
   "metadata": {},
   "source": [
    "- RECRUITMENT COSTS: £67,286.22 (43.14% of corresponding Description crown commercial service spend)"
   ]
  },
  {
   "cell_type": "markdown",
   "metadata": {
    "slideshow": {
     "slide_type": "slide"
    }
   },
   "source": [
    "## Major Monthly Spend by Expense Area: CONSULTANCY"
   ]
  },
  {
   "cell_type": "markdown",
   "metadata": {
    "slideshow": {
     "slide_type": "fragment"
    }
   },
   "source": [
    "### CROWN COMMERCIAL SERVICE (100.00% of Description total, 0.74% of Cabinet Office total)"
   ]
  },
  {
   "cell_type": "markdown",
   "metadata": {},
   "source": [
    "- FUNCTIONAL STRATEGY: £155,972.22 (100.00% of corresponding Description crown commercial service spend)"
   ]
  },
  {
   "cell_type": "markdown",
   "metadata": {
    "slideshow": {
     "slide_type": "slide"
    }
   },
   "source": [
    "## Major Monthly Spends  - TELECOMMUNICATIONS SERVICES"
   ]
  },
  {
   "cell_type": "markdown",
   "metadata": {},
   "source": [
    "Total spend: £155,855.15 (0.74% of total Cabinet Office monthly spend)\n"
   ]
  },
  {
   "cell_type": "markdown",
   "metadata": {},
   "source": [
    "- CABINET OFFICE: £155,855.15 (100.00% of Description total, 0.74% of Cabinet Office total)"
   ]
  },
  {
   "cell_type": "markdown",
   "metadata": {
    "slideshow": {
     "slide_type": "slide"
    }
   },
   "source": [
    "## Major Monthly Spend by Expense Type: TELECOMMUNICATIONS SERVICES"
   ]
  },
  {
   "cell_type": "markdown",
   "metadata": {
    "slideshow": {
     "slide_type": "fragment"
    }
   },
   "source": [
    "### CABINET OFFICE (100.00% of Description total, 0.74% of Cabinet Office total)"
   ]
  },
  {
   "cell_type": "markdown",
   "metadata": {},
   "source": [
    "- TELECOM RENTALS: £155,855.15 (100.00% of corresponding Description cabinet office spend)"
   ]
  },
  {
   "cell_type": "markdown",
   "metadata": {
    "slideshow": {
     "slide_type": "subslide"
    }
   },
   "source": [
    "## TELECOMMUNICATIONS SERVICES - TELECOM RENTALS (CABINET OFFICE)  Major Suppliers"
   ]
  },
  {
   "cell_type": "markdown",
   "metadata": {},
   "source": [
    "Overall, this Expense Type accounts for __£155,855.15__ (100.00% of corresponding Description cabinet office spend)"
   ]
  },
  {
   "cell_type": "markdown",
   "metadata": {},
   "source": [
    "- MINISTRY OF DEFENCE: £155,855.15 (100.00% of corresponding spend)"
   ]
  },
  {
   "cell_type": "markdown",
   "metadata": {
    "slideshow": {
     "slide_type": "slide"
    }
   },
   "source": [
    "## Major Monthly Spend by Expense Area: TELECOMMUNICATIONS SERVICES"
   ]
  },
  {
   "cell_type": "markdown",
   "metadata": {
    "slideshow": {
     "slide_type": "fragment"
    }
   },
   "source": [
    "### CABINET OFFICE (100.00% of Description total, 0.74% of Cabinet Office total)"
   ]
  },
  {
   "cell_type": "markdown",
   "metadata": {},
   "source": [
    "- CCS RESILIENT TELECOMMUNICATIONS: £155,855.15 (100.00% of corresponding Description cabinet office spend)"
   ]
  },
  {
   "cell_type": "markdown",
   "metadata": {
    "slideshow": {
     "slide_type": "subslide"
    }
   },
   "source": [
    "## TELECOMMUNICATIONS SERVICES - CCS RESILIENT TELECOMMUNICATIONS (CABINET OFFICE)  Major Suppliers"
   ]
  },
  {
   "cell_type": "markdown",
   "metadata": {},
   "source": [
    "Overall, this Expense Area accounts for __£155,855.15__ (100.00% of corresponding Description cabinet office spend)"
   ]
  },
  {
   "cell_type": "markdown",
   "metadata": {},
   "source": [
    "- MINISTRY OF DEFENCE: £155,855.15 (100.00% of corresponding spend)"
   ]
  },
  {
   "cell_type": "markdown",
   "metadata": {
    "slideshow": {
     "slide_type": "slide"
    }
   },
   "source": [
    "## Major Monthly Spends  - PUBLICITY"
   ]
  },
  {
   "cell_type": "markdown",
   "metadata": {},
   "source": [
    "Total spend: £150,000.00 (0.71% of total Cabinet Office monthly spend)\n"
   ]
  },
  {
   "cell_type": "markdown",
   "metadata": {},
   "source": [
    "- CABINET OFFICE: £150,000.00 (100.00% of Description total, 0.71% of Cabinet Office total)"
   ]
  },
  {
   "cell_type": "markdown",
   "metadata": {
    "slideshow": {
     "slide_type": "slide"
    }
   },
   "source": [
    "## Major Monthly Spend by Expense Type: PUBLICITY"
   ]
  },
  {
   "cell_type": "markdown",
   "metadata": {
    "slideshow": {
     "slide_type": "fragment"
    }
   },
   "source": [
    "### CABINET OFFICE (100.00% of Description total, 0.71% of Cabinet Office total)"
   ]
  },
  {
   "cell_type": "markdown",
   "metadata": {},
   "source": [
    "- PUBLICITY ADVERTISING MEDIA: £150,000.00 (100.00% of corresponding Description cabinet office spend)"
   ]
  },
  {
   "cell_type": "markdown",
   "metadata": {
    "slideshow": {
     "slide_type": "subslide"
    }
   },
   "source": [
    "## PUBLICITY - PUBLICITY ADVERTISING MEDIA (CABINET OFFICE)  Major Suppliers"
   ]
  },
  {
   "cell_type": "markdown",
   "metadata": {},
   "source": [
    "Overall, this Expense Type accounts for __£150,000.00__ (100.00% of corresponding Description cabinet office spend)"
   ]
  },
  {
   "cell_type": "markdown",
   "metadata": {},
   "source": [
    "- FOREIGN & COMMONWEALTH OFFICE: £100,000.00 (66.67% of corresponding spend)"
   ]
  },
  {
   "cell_type": "markdown",
   "metadata": {},
   "source": [
    "- LONDON & PARTNERS LTD: £50,000.00 (33.33% of corresponding spend)"
   ]
  },
  {
   "cell_type": "markdown",
   "metadata": {
    "slideshow": {
     "slide_type": "slide"
    }
   },
   "source": [
    "## Major Monthly Spend by Expense Area: PUBLICITY"
   ]
  },
  {
   "cell_type": "markdown",
   "metadata": {
    "slideshow": {
     "slide_type": "fragment"
    }
   },
   "source": [
    "### CABINET OFFICE (100.00% of Description total, 0.71% of Cabinet Office total)"
   ]
  },
  {
   "cell_type": "markdown",
   "metadata": {},
   "source": [
    "- GREAT CAMPAIGN PROGRAMME: £150,000.00 (100.00% of corresponding Description cabinet office spend)"
   ]
  },
  {
   "cell_type": "markdown",
   "metadata": {
    "slideshow": {
     "slide_type": "subslide"
    }
   },
   "source": [
    "## PUBLICITY - GREAT CAMPAIGN PROGRAMME (CABINET OFFICE)  Major Suppliers"
   ]
  },
  {
   "cell_type": "markdown",
   "metadata": {},
   "source": [
    "Overall, this Expense Area accounts for __£150,000.00__ (100.00% of corresponding Description cabinet office spend)"
   ]
  },
  {
   "cell_type": "markdown",
   "metadata": {},
   "source": [
    "- FOREIGN & COMMONWEALTH OFFICE: £100,000.00 (66.67% of corresponding spend)"
   ]
  },
  {
   "cell_type": "markdown",
   "metadata": {},
   "source": [
    "- LONDON & PARTNERS LTD: £50,000.00 (33.33% of corresponding spend)"
   ]
  },
  {
   "cell_type": "markdown",
   "metadata": {
    "slideshow": {
     "slide_type": "slide"
    }
   },
   "source": [
    "## Major Monthly Spends  - MAINTENANCE SERVICES"
   ]
  },
  {
   "cell_type": "markdown",
   "metadata": {},
   "source": [
    "Total spend: £150,000.00 (0.71% of total Cabinet Office monthly spend)\n"
   ]
  },
  {
   "cell_type": "markdown",
   "metadata": {},
   "source": [
    "- CABINET OFFICE: £150,000.00 (100.00% of Description total, 0.71% of Cabinet Office total)"
   ]
  },
  {
   "cell_type": "markdown",
   "metadata": {
    "slideshow": {
     "slide_type": "slide"
    }
   },
   "source": [
    "## Major Monthly Spend by Expense Type: MAINTENANCE SERVICES"
   ]
  },
  {
   "cell_type": "markdown",
   "metadata": {
    "slideshow": {
     "slide_type": "fragment"
    }
   },
   "source": [
    "### CABINET OFFICE (100.00% of Description total, 0.71% of Cabinet Office total)"
   ]
  },
  {
   "cell_type": "markdown",
   "metadata": {},
   "source": [
    "- WCC STREET MAINTENANCE: £150,000.00 (100.00% of corresponding Description cabinet office spend)"
   ]
  },
  {
   "cell_type": "markdown",
   "metadata": {
    "slideshow": {
     "slide_type": "subslide"
    }
   },
   "source": [
    "## MAINTENANCE SERVICES - WCC STREET MAINTENANCE (CABINET OFFICE)  Major Suppliers"
   ]
  },
  {
   "cell_type": "markdown",
   "metadata": {},
   "source": [
    "Overall, this Expense Type accounts for __£150,000.00__ (100.00% of corresponding Description cabinet office spend)"
   ]
  },
  {
   "cell_type": "markdown",
   "metadata": {},
   "source": [
    "- WESTMINSTER CITY COUNCIL: £150,000.00 (100.00% of corresponding spend)"
   ]
  },
  {
   "cell_type": "markdown",
   "metadata": {
    "slideshow": {
     "slide_type": "slide"
    }
   },
   "source": [
    "## Major Monthly Spend by Expense Area: MAINTENANCE SERVICES"
   ]
  },
  {
   "cell_type": "markdown",
   "metadata": {
    "slideshow": {
     "slide_type": "fragment"
    }
   },
   "source": [
    "### CABINET OFFICE (100.00% of Description total, 0.71% of Cabinet Office total)"
   ]
  },
  {
   "cell_type": "markdown",
   "metadata": {},
   "source": [
    "- CENTRAL OVERHEADS: £150,000.00 (100.00% of corresponding Description cabinet office spend)"
   ]
  },
  {
   "cell_type": "markdown",
   "metadata": {
    "slideshow": {
     "slide_type": "subslide"
    }
   },
   "source": [
    "## MAINTENANCE SERVICES - CENTRAL OVERHEADS (CABINET OFFICE)  Major Suppliers"
   ]
  },
  {
   "cell_type": "markdown",
   "metadata": {},
   "source": [
    "Overall, this Expense Area accounts for __£150,000.00__ (100.00% of corresponding Description cabinet office spend)"
   ]
  },
  {
   "cell_type": "markdown",
   "metadata": {},
   "source": [
    "- WESTMINSTER CITY COUNCIL: £150,000.00 (100.00% of corresponding spend)"
   ]
  },
  {
   "cell_type": "markdown",
   "metadata": {
    "slideshow": {
     "slide_type": "slide"
    }
   },
   "source": [
    "## Major Monthly Spends  - LEGAL SERVICES"
   ]
  },
  {
   "cell_type": "markdown",
   "metadata": {},
   "source": [
    "Total spend: £142,168.35 (0.67% of total Cabinet Office monthly spend)\n"
   ]
  },
  {
   "cell_type": "markdown",
   "metadata": {},
   "source": [
    "- CABINET OFFICE: £86,405.40 (60.78% of Description total, 0.41% of Cabinet Office total)"
   ]
  },
  {
   "cell_type": "markdown",
   "metadata": {},
   "source": [
    "- CROWN COMMERCIAL SERVICE: £55,762.95 (39.22% of Description total, 0.26% of Cabinet Office total)"
   ]
  },
  {
   "cell_type": "markdown",
   "metadata": {
    "slideshow": {
     "slide_type": "slide"
    }
   },
   "source": [
    "## Major Monthly Spend by Expense Type: LEGAL SERVICES"
   ]
  },
  {
   "cell_type": "markdown",
   "metadata": {
    "slideshow": {
     "slide_type": "fragment"
    }
   },
   "source": [
    "### CABINET OFFICE (60.78% of Description total, 0.41% of Cabinet Office total)"
   ]
  },
  {
   "cell_type": "markdown",
   "metadata": {},
   "source": [
    "- OTHER LEGAL FEES: £86,405.40 (100.00% of corresponding Description cabinet office spend)"
   ]
  },
  {
   "cell_type": "markdown",
   "metadata": {
    "slideshow": {
     "slide_type": "fragment"
    }
   },
   "source": [
    "### CROWN COMMERCIAL SERVICE (39.22% of Description total, 0.26% of Cabinet Office total)"
   ]
  },
  {
   "cell_type": "markdown",
   "metadata": {},
   "source": [
    "- LEGAL FEES: £55,762.95 (100.00% of corresponding Description crown commercial service spend)"
   ]
  },
  {
   "cell_type": "markdown",
   "metadata": {
    "slideshow": {
     "slide_type": "subslide"
    }
   },
   "source": [
    "## LEGAL SERVICES - OTHER LEGAL FEES (CABINET OFFICE)  Major Suppliers"
   ]
  },
  {
   "cell_type": "markdown",
   "metadata": {},
   "source": [
    "Overall, this Expense Type accounts for __£86,405.40__ (100.00% of corresponding Description cabinet office spend)"
   ]
  },
  {
   "cell_type": "markdown",
   "metadata": {},
   "source": [
    "- FIELD FISHER WATERHOUSE LLP: £86,405.40 (100.00% of corresponding spend)"
   ]
  },
  {
   "cell_type": "markdown",
   "metadata": {
    "slideshow": {
     "slide_type": "subslide"
    }
   },
   "source": [
    "## LEGAL SERVICES - LEGAL FEES (CROWN COMMERCIAL SERVICE)  Major Suppliers"
   ]
  },
  {
   "cell_type": "markdown",
   "metadata": {},
   "source": [
    "Overall, this Expense Type accounts for __£55,762.95__ (100.00% of corresponding Description crown commercial service spend)"
   ]
  },
  {
   "cell_type": "markdown",
   "metadata": {},
   "source": [
    "- TREASURY SOLICITORS: £55,762.95 (100.00% of corresponding spend)"
   ]
  },
  {
   "cell_type": "markdown",
   "metadata": {
    "slideshow": {
     "slide_type": "slide"
    }
   },
   "source": [
    "## Major Monthly Spend by Expense Area: LEGAL SERVICES"
   ]
  },
  {
   "cell_type": "markdown",
   "metadata": {
    "slideshow": {
     "slide_type": "fragment"
    }
   },
   "source": [
    "### CABINET OFFICE (60.78% of Description total, 0.41% of Cabinet Office total)"
   ]
  },
  {
   "cell_type": "markdown",
   "metadata": {},
   "source": [
    "- ERG NEXT GENERATION SHARED SERVICES: £86,405.40 (100.00% of corresponding Description cabinet office spend)"
   ]
  },
  {
   "cell_type": "markdown",
   "metadata": {
    "slideshow": {
     "slide_type": "fragment"
    }
   },
   "source": [
    "### CROWN COMMERCIAL SERVICE (39.22% of Description total, 0.26% of Cabinet Office total)"
   ]
  },
  {
   "cell_type": "markdown",
   "metadata": {},
   "source": [
    "- PROC SERVICES SOURCING OPS: £55,762.95 (100.00% of corresponding Description crown commercial service spend)"
   ]
  },
  {
   "cell_type": "markdown",
   "metadata": {
    "slideshow": {
     "slide_type": "subslide"
    }
   },
   "source": [
    "## LEGAL SERVICES - ERG NEXT GENERATION SHARED SERVICES (CABINET OFFICE)  Major Suppliers"
   ]
  },
  {
   "cell_type": "markdown",
   "metadata": {},
   "source": [
    "Overall, this Expense Area accounts for __£86,405.40__ (100.00% of corresponding Description cabinet office spend)"
   ]
  },
  {
   "cell_type": "markdown",
   "metadata": {},
   "source": [
    "- FIELD FISHER WATERHOUSE LLP: £86,405.40 (100.00% of corresponding spend)"
   ]
  },
  {
   "cell_type": "markdown",
   "metadata": {
    "slideshow": {
     "slide_type": "subslide"
    }
   },
   "source": [
    "## LEGAL SERVICES - PROC SERVICES SOURCING OPS (CROWN COMMERCIAL SERVICE)  Major Suppliers"
   ]
  },
  {
   "cell_type": "markdown",
   "metadata": {},
   "source": [
    "Overall, this Expense Area accounts for __£55,762.95__ (100.00% of corresponding Description crown commercial service spend)"
   ]
  },
  {
   "cell_type": "markdown",
   "metadata": {},
   "source": [
    "- TREASURY SOLICITORS: £55,762.95 (100.00% of corresponding spend)"
   ]
  },
  {
   "cell_type": "markdown",
   "metadata": {
    "slideshow": {
     "slide_type": "slide"
    }
   },
   "source": [
    "## Major Monthly Spends  - PROFESSIONAL ADVICE"
   ]
  },
  {
   "cell_type": "markdown",
   "metadata": {},
   "source": [
    "Total spend: £133,093.26 (0.63% of total Cabinet Office monthly spend)\n"
   ]
  },
  {
   "cell_type": "markdown",
   "metadata": {},
   "source": [
    "- CABINET OFFICE: £133,093.26 (100.00% of Description total, 0.63% of Cabinet Office total)"
   ]
  },
  {
   "cell_type": "markdown",
   "metadata": {
    "slideshow": {
     "slide_type": "slide"
    }
   },
   "source": [
    "## Major Monthly Spend by Expense Type: PROFESSIONAL ADVICE"
   ]
  },
  {
   "cell_type": "markdown",
   "metadata": {
    "slideshow": {
     "slide_type": "fragment"
    }
   },
   "source": [
    "### CABINET OFFICE (100.00% of Description total, 0.63% of Cabinet Office total)"
   ]
  },
  {
   "cell_type": "markdown",
   "metadata": {},
   "source": [
    "- PROFESSIONAL ADVICE & OPINION VAT RECOVERABLE: £103,093.26 (77.46% of corresponding Description cabinet office spend)"
   ]
  },
  {
   "cell_type": "markdown",
   "metadata": {},
   "source": [
    "- PROFESSIONAL ADVICE: £30,000.00 (22.54% of corresponding Description cabinet office spend)"
   ]
  },
  {
   "cell_type": "markdown",
   "metadata": {
    "slideshow": {
     "slide_type": "subslide"
    }
   },
   "source": [
    "## PROFESSIONAL ADVICE - PROFESSIONAL ADVICE & OPINION VAT RECOVERABLE (CABINET OFFICE)  Major Suppliers"
   ]
  },
  {
   "cell_type": "markdown",
   "metadata": {},
   "source": [
    "Overall, this Expense Type accounts for __£103,093.26__ (77.46% of corresponding Description cabinet office spend)"
   ]
  },
  {
   "cell_type": "markdown",
   "metadata": {},
   "source": [
    "- ORC INTERNATIONAL LIMITED: £103,093.26 (100.00% of corresponding spend)"
   ]
  },
  {
   "cell_type": "markdown",
   "metadata": {
    "slideshow": {
     "slide_type": "subslide"
    }
   },
   "source": [
    "## PROFESSIONAL ADVICE - PROFESSIONAL ADVICE (CABINET OFFICE)  Major Suppliers"
   ]
  },
  {
   "cell_type": "markdown",
   "metadata": {},
   "source": [
    "Overall, this Expense Type accounts for __£30,000.00__ (22.54% of corresponding Description cabinet office spend)"
   ]
  },
  {
   "cell_type": "markdown",
   "metadata": {},
   "source": [
    "- ODGERS BERNDTSON: £30,000.00 (100.00% of corresponding spend)"
   ]
  },
  {
   "cell_type": "markdown",
   "metadata": {
    "slideshow": {
     "slide_type": "slide"
    }
   },
   "source": [
    "## Major Monthly Spend by Expense Area: PROFESSIONAL ADVICE"
   ]
  },
  {
   "cell_type": "markdown",
   "metadata": {
    "slideshow": {
     "slide_type": "fragment"
    }
   },
   "source": [
    "### CABINET OFFICE (100.00% of Description total, 0.63% of Cabinet Office total)"
   ]
  },
  {
   "cell_type": "markdown",
   "metadata": {},
   "source": [
    "- ERG CIVIL SERVICE PEOPLE SURVEY: £103,093.26 (77.46% of corresponding Description cabinet office spend)"
   ]
  },
  {
   "cell_type": "markdown",
   "metadata": {},
   "source": [
    "- INFRASTRUCTURE UK: £30,000.00 (22.54% of corresponding Description cabinet office spend)"
   ]
  },
  {
   "cell_type": "markdown",
   "metadata": {
    "slideshow": {
     "slide_type": "subslide"
    }
   },
   "source": [
    "## PROFESSIONAL ADVICE - ERG CIVIL SERVICE PEOPLE SURVEY (CABINET OFFICE)  Major Suppliers"
   ]
  },
  {
   "cell_type": "markdown",
   "metadata": {},
   "source": [
    "Overall, this Expense Area accounts for __£103,093.26__ (77.46% of corresponding Description cabinet office spend)"
   ]
  },
  {
   "cell_type": "markdown",
   "metadata": {},
   "source": [
    "- ORC INTERNATIONAL LIMITED: £103,093.26 (100.00% of corresponding spend)"
   ]
  },
  {
   "cell_type": "markdown",
   "metadata": {
    "slideshow": {
     "slide_type": "subslide"
    }
   },
   "source": [
    "## PROFESSIONAL ADVICE - INFRASTRUCTURE UK (CABINET OFFICE)  Major Suppliers"
   ]
  },
  {
   "cell_type": "markdown",
   "metadata": {},
   "source": [
    "Overall, this Expense Area accounts for __£30,000.00__ (22.54% of corresponding Description cabinet office spend)"
   ]
  },
  {
   "cell_type": "markdown",
   "metadata": {},
   "source": [
    "- ODGERS BERNDTSON: £30,000.00 (100.00% of corresponding spend)"
   ]
  },
  {
   "cell_type": "markdown",
   "metadata": {
    "slideshow": {
     "slide_type": "slide"
    }
   },
   "source": [
    "## Major Monthly Spends  - ESTATES SERVICES"
   ]
  },
  {
   "cell_type": "markdown",
   "metadata": {},
   "source": [
    "Total spend: £124,663.20 (0.59% of total Cabinet Office monthly spend)\n"
   ]
  },
  {
   "cell_type": "markdown",
   "metadata": {},
   "source": [
    "- CABINET OFFICE: £25,219.20 (20.23% of Description total, 0.12% of Cabinet Office total)"
   ]
  },
  {
   "cell_type": "markdown",
   "metadata": {},
   "source": [
    "- CROWN COMMERCIAL SERVICE: £99,444.00 (79.77% of Description total, 0.47% of Cabinet Office total)"
   ]
  },
  {
   "cell_type": "markdown",
   "metadata": {
    "slideshow": {
     "slide_type": "slide"
    }
   },
   "source": [
    "## Major Monthly Spend by Expense Type: ESTATES SERVICES"
   ]
  },
  {
   "cell_type": "markdown",
   "metadata": {
    "slideshow": {
     "slide_type": "fragment"
    }
   },
   "source": [
    "### CABINET OFFICE (20.23% of Description total, 0.12% of Cabinet Office total)"
   ]
  },
  {
   "cell_type": "markdown",
   "metadata": {},
   "source": [
    "- NON PRIME PROPERTY COSTS: £25,219.20 (100.00% of corresponding Description cabinet office spend)"
   ]
  },
  {
   "cell_type": "markdown",
   "metadata": {
    "slideshow": {
     "slide_type": "fragment"
    }
   },
   "source": [
    "### CROWN COMMERCIAL SERVICE (79.77% of Description total, 0.47% of Cabinet Office total)"
   ]
  },
  {
   "cell_type": "markdown",
   "metadata": {},
   "source": [
    "- FM SERVICE CHARGES - CAPITAL BLDG: £99,444.00 (100.00% of corresponding Description crown commercial service spend)"
   ]
  },
  {
   "cell_type": "markdown",
   "metadata": {
    "slideshow": {
     "slide_type": "subslide"
    }
   },
   "source": [
    "## ESTATES SERVICES - NON PRIME PROPERTY COSTS (CABINET OFFICE)  Major Suppliers"
   ]
  },
  {
   "cell_type": "markdown",
   "metadata": {},
   "source": [
    "Overall, this Expense Type accounts for __£25,219.20__ (100.00% of corresponding Description cabinet office spend)"
   ]
  },
  {
   "cell_type": "markdown",
   "metadata": {},
   "source": [
    "- VINE PROPERTY MANAGEMENT LLP: £25,219.20 (100.00% of corresponding spend)"
   ]
  },
  {
   "cell_type": "markdown",
   "metadata": {
    "slideshow": {
     "slide_type": "subslide"
    }
   },
   "source": [
    "## ESTATES SERVICES - FM SERVICE CHARGES - CAPITAL BLDG (CROWN COMMERCIAL SERVICE)  Major Suppliers"
   ]
  },
  {
   "cell_type": "markdown",
   "metadata": {},
   "source": [
    "Overall, this Expense Type accounts for __£99,444.00__ (100.00% of corresponding Description crown commercial service spend)"
   ]
  },
  {
   "cell_type": "markdown",
   "metadata": {},
   "source": [
    "- HOME OFFICE: £99,444.00 (100.00% of corresponding spend)"
   ]
  },
  {
   "cell_type": "markdown",
   "metadata": {
    "slideshow": {
     "slide_type": "slide"
    }
   },
   "source": [
    "## Major Monthly Spend by Expense Area: ESTATES SERVICES"
   ]
  },
  {
   "cell_type": "markdown",
   "metadata": {
    "slideshow": {
     "slide_type": "fragment"
    }
   },
   "source": [
    "### CABINET OFFICE (20.23% of Description total, 0.12% of Cabinet Office total)"
   ]
  },
  {
   "cell_type": "markdown",
   "metadata": {},
   "source": [
    "- RESIDUAL ESTATES: £25,219.20 (100.00% of corresponding Description cabinet office spend)"
   ]
  },
  {
   "cell_type": "markdown",
   "metadata": {
    "slideshow": {
     "slide_type": "fragment"
    }
   },
   "source": [
    "### CROWN COMMERCIAL SERVICE (79.77% of Description total, 0.47% of Cabinet Office total)"
   ]
  },
  {
   "cell_type": "markdown",
   "metadata": {},
   "source": [
    "- ESTATES MANAGEMENT: £99,444.00 (100.00% of corresponding Description crown commercial service spend)"
   ]
  },
  {
   "cell_type": "markdown",
   "metadata": {
    "slideshow": {
     "slide_type": "subslide"
    }
   },
   "source": [
    "## ESTATES SERVICES - RESIDUAL ESTATES (CABINET OFFICE)  Major Suppliers"
   ]
  },
  {
   "cell_type": "markdown",
   "metadata": {},
   "source": [
    "Overall, this Expense Area accounts for __£25,219.20__ (100.00% of corresponding Description cabinet office spend)"
   ]
  },
  {
   "cell_type": "markdown",
   "metadata": {},
   "source": [
    "- VINE PROPERTY MANAGEMENT LLP: £25,219.20 (100.00% of corresponding spend)"
   ]
  },
  {
   "cell_type": "markdown",
   "metadata": {
    "slideshow": {
     "slide_type": "subslide"
    }
   },
   "source": [
    "## ESTATES SERVICES - ESTATES MANAGEMENT (CROWN COMMERCIAL SERVICE)  Major Suppliers"
   ]
  },
  {
   "cell_type": "markdown",
   "metadata": {},
   "source": [
    "Overall, this Expense Area accounts for __£99,444.00__ (100.00% of corresponding Description crown commercial service spend)"
   ]
  },
  {
   "cell_type": "markdown",
   "metadata": {},
   "source": [
    "- HOME OFFICE: £99,444.00 (100.00% of corresponding spend)"
   ]
  },
  {
   "cell_type": "markdown",
   "metadata": {
    "slideshow": {
     "slide_type": "slide"
    }
   },
   "source": [
    "## Major Monthly Spends  - HEATING SYSTEMS MANAGEMENT"
   ]
  },
  {
   "cell_type": "markdown",
   "metadata": {},
   "source": [
    "Total spend: £111,858.35 (0.53% of total Cabinet Office monthly spend)\n"
   ]
  },
  {
   "cell_type": "markdown",
   "metadata": {},
   "source": [
    "- CROWN COMMERCIAL SERVICE: £111,858.35 (100.00% of Description total, 0.53% of Cabinet Office total)"
   ]
  },
  {
   "cell_type": "markdown",
   "metadata": {
    "slideshow": {
     "slide_type": "slide"
    }
   },
   "source": [
    "## Major Monthly Spend by Expense Type: HEATING SYSTEMS MANAGEMENT"
   ]
  },
  {
   "cell_type": "markdown",
   "metadata": {
    "slideshow": {
     "slide_type": "fragment"
    }
   },
   "source": [
    "### CROWN COMMERCIAL SERVICE (100.00% of Description total, 0.53% of Cabinet Office total)"
   ]
  },
  {
   "cell_type": "markdown",
   "metadata": {},
   "source": [
    "- WDHS MAINTENANCE & REPAIRS: £68,880.49 (61.58% of corresponding Description crown commercial service spend)"
   ]
  },
  {
   "cell_type": "markdown",
   "metadata": {},
   "source": [
    "- WSDS MAINTENANCE & REPAIRS: £42,977.86 (38.42% of corresponding Description crown commercial service spend)"
   ]
  },
  {
   "cell_type": "markdown",
   "metadata": {
    "slideshow": {
     "slide_type": "slide"
    }
   },
   "source": [
    "## Major Monthly Spend by Expense Area: HEATING SYSTEMS MANAGEMENT"
   ]
  },
  {
   "cell_type": "markdown",
   "metadata": {
    "slideshow": {
     "slide_type": "fragment"
    }
   },
   "source": [
    "### CROWN COMMERCIAL SERVICE (100.00% of Description total, 0.53% of Cabinet Office total)"
   ]
  },
  {
   "cell_type": "markdown",
   "metadata": {},
   "source": [
    "- WHITEHALL DISTRICT HEATING SYSTEMS: £68,880.49 (61.58% of corresponding Description crown commercial service spend)"
   ]
  },
  {
   "cell_type": "markdown",
   "metadata": {},
   "source": [
    "- WHITEHALL STANDBY DIST SYSTEMS: £42,977.86 (38.42% of corresponding Description crown commercial service spend)"
   ]
  },
  {
   "cell_type": "markdown",
   "metadata": {
    "slideshow": {
     "slide_type": "slide"
    }
   },
   "source": [
    "## Major Monthly Spends  - SECURITY SERVICES"
   ]
  },
  {
   "cell_type": "markdown",
   "metadata": {},
   "source": [
    "Total spend: £104,750.00 (0.50% of total Cabinet Office monthly spend)\n"
   ]
  },
  {
   "cell_type": "markdown",
   "metadata": {},
   "source": [
    "- CABINET OFFICE: £104,750.00 (100.00% of Description total, 0.50% of Cabinet Office total)"
   ]
  },
  {
   "cell_type": "markdown",
   "metadata": {
    "slideshow": {
     "slide_type": "slide"
    }
   },
   "source": [
    "## Major Monthly Spend by Expense Type: SECURITY SERVICES"
   ]
  },
  {
   "cell_type": "markdown",
   "metadata": {
    "slideshow": {
     "slide_type": "fragment"
    }
   },
   "source": [
    "### CABINET OFFICE (100.00% of Description total, 0.50% of Cabinet Office total)"
   ]
  },
  {
   "cell_type": "markdown",
   "metadata": {},
   "source": [
    "- SECURITY AND CUSTODY SERVICES: £104,750.00 (100.00% of corresponding Description cabinet office spend)"
   ]
  },
  {
   "cell_type": "markdown",
   "metadata": {
    "slideshow": {
     "slide_type": "subslide"
    }
   },
   "source": [
    "## SECURITY SERVICES - SECURITY AND CUSTODY SERVICES (CABINET OFFICE)  Major Suppliers"
   ]
  },
  {
   "cell_type": "markdown",
   "metadata": {},
   "source": [
    "Overall, this Expense Type accounts for __£104,750.00__ (100.00% of corresponding Description cabinet office spend)"
   ]
  },
  {
   "cell_type": "markdown",
   "metadata": {},
   "source": [
    "- FCO SERVICES: £104,750.00 (100.00% of corresponding spend)"
   ]
  },
  {
   "cell_type": "markdown",
   "metadata": {
    "slideshow": {
     "slide_type": "slide"
    }
   },
   "source": [
    "## Major Monthly Spend by Expense Area: SECURITY SERVICES"
   ]
  },
  {
   "cell_type": "markdown",
   "metadata": {
    "slideshow": {
     "slide_type": "fragment"
    }
   },
   "source": [
    "### CABINET OFFICE (100.00% of Description total, 0.50% of Cabinet Office total)"
   ]
  },
  {
   "cell_type": "markdown",
   "metadata": {},
   "source": [
    "- CABINET OFFICE SECURITY TEAM: £104,750.00 (100.00% of corresponding Description cabinet office spend)"
   ]
  },
  {
   "cell_type": "markdown",
   "metadata": {
    "slideshow": {
     "slide_type": "subslide"
    }
   },
   "source": [
    "## SECURITY SERVICES - CABINET OFFICE SECURITY TEAM (CABINET OFFICE)  Major Suppliers"
   ]
  },
  {
   "cell_type": "markdown",
   "metadata": {},
   "source": [
    "Overall, this Expense Area accounts for __£104,750.00__ (100.00% of corresponding Description cabinet office spend)"
   ]
  },
  {
   "cell_type": "markdown",
   "metadata": {},
   "source": [
    "- FCO SERVICES: £104,750.00 (100.00% of corresponding spend)"
   ]
  },
  {
   "cell_type": "markdown",
   "metadata": {
    "slideshow": {
     "slide_type": "slide"
    }
   },
   "source": [
    "## Major Monthly Spends  - AUDIT SERVICES"
   ]
  },
  {
   "cell_type": "markdown",
   "metadata": {},
   "source": [
    "Total spend: £104,253.07 (0.49% of total Cabinet Office monthly spend)\n"
   ]
  },
  {
   "cell_type": "markdown",
   "metadata": {},
   "source": [
    "- CABINET OFFICE: £104,253.07 (100.00% of Description total, 0.49% of Cabinet Office total)"
   ]
  },
  {
   "cell_type": "markdown",
   "metadata": {
    "slideshow": {
     "slide_type": "slide"
    }
   },
   "source": [
    "## Major Monthly Spend by Expense Type: AUDIT SERVICES"
   ]
  },
  {
   "cell_type": "markdown",
   "metadata": {
    "slideshow": {
     "slide_type": "fragment"
    }
   },
   "source": [
    "### CABINET OFFICE (100.00% of Description total, 0.49% of Cabinet Office total)"
   ]
  },
  {
   "cell_type": "markdown",
   "metadata": {},
   "source": [
    "- PROFESSIONAL ADVICE & OPINION VAT RECOVERABLE: £104,253.07 (100.00% of corresponding Description cabinet office spend)"
   ]
  },
  {
   "cell_type": "markdown",
   "metadata": {
    "slideshow": {
     "slide_type": "subslide"
    }
   },
   "source": [
    "## AUDIT SERVICES - PROFESSIONAL ADVICE & OPINION VAT RECOVERABLE (CABINET OFFICE)  Major Suppliers"
   ]
  },
  {
   "cell_type": "markdown",
   "metadata": {},
   "source": [
    "Overall, this Expense Type accounts for __£104,253.07__ (100.00% of corresponding Description cabinet office spend)"
   ]
  },
  {
   "cell_type": "markdown",
   "metadata": {},
   "source": [
    "- GOVERNMENT INTERNAL AUDIT AGENCY: £104,253.07 (100.00% of corresponding spend)"
   ]
  },
  {
   "cell_type": "markdown",
   "metadata": {
    "slideshow": {
     "slide_type": "slide"
    }
   },
   "source": [
    "## Major Monthly Spend by Expense Area: AUDIT SERVICES"
   ]
  },
  {
   "cell_type": "markdown",
   "metadata": {
    "slideshow": {
     "slide_type": "fragment"
    }
   },
   "source": [
    "### CABINET OFFICE (100.00% of Description total, 0.49% of Cabinet Office total)"
   ]
  },
  {
   "cell_type": "markdown",
   "metadata": {},
   "source": [
    "- SME CONTRACT MANAGMENT LEAD: £104,253.07 (100.00% of corresponding Description cabinet office spend)"
   ]
  },
  {
   "cell_type": "markdown",
   "metadata": {
    "slideshow": {
     "slide_type": "subslide"
    }
   },
   "source": [
    "## AUDIT SERVICES - SME CONTRACT MANAGMENT LEAD (CABINET OFFICE)  Major Suppliers"
   ]
  },
  {
   "cell_type": "markdown",
   "metadata": {},
   "source": [
    "Overall, this Expense Area accounts for __£104,253.07__ (100.00% of corresponding Description cabinet office spend)"
   ]
  },
  {
   "cell_type": "markdown",
   "metadata": {},
   "source": [
    "- GOVERNMENT INTERNAL AUDIT AGENCY: £104,253.07 (100.00% of corresponding spend)"
   ]
  },
  {
   "cell_type": "markdown",
   "metadata": {
    "slideshow": {
     "slide_type": "slide"
    }
   },
   "source": [
    "## Major Monthly Spends  - GRANT"
   ]
  },
  {
   "cell_type": "markdown",
   "metadata": {},
   "source": [
    "Total spend: £96,667.50 (0.46% of total Cabinet Office monthly spend)\n"
   ]
  },
  {
   "cell_type": "markdown",
   "metadata": {},
   "source": [
    "- CABINET OFFICE: £96,667.50 (100.00% of Description total, 0.46% of Cabinet Office total)"
   ]
  },
  {
   "cell_type": "markdown",
   "metadata": {
    "slideshow": {
     "slide_type": "slide"
    }
   },
   "source": [
    "## Major Monthly Spend by Expense Type: GRANT"
   ]
  },
  {
   "cell_type": "markdown",
   "metadata": {
    "slideshow": {
     "slide_type": "fragment"
    }
   },
   "source": [
    "### CABINET OFFICE (100.00% of Description total, 0.46% of Cabinet Office total)"
   ]
  },
  {
   "cell_type": "markdown",
   "metadata": {},
   "source": [
    "- RESOURCE GRANTS PRIVATE SECTOR: £96,667.50 (100.00% of corresponding Description cabinet office spend)"
   ]
  },
  {
   "cell_type": "markdown",
   "metadata": {
    "slideshow": {
     "slide_type": "subslide"
    }
   },
   "source": [
    "## GRANT - RESOURCE GRANTS PRIVATE SECTOR (CABINET OFFICE)  Major Suppliers"
   ]
  },
  {
   "cell_type": "markdown",
   "metadata": {},
   "source": [
    "Overall, this Expense Type accounts for __£96,667.50__ (100.00% of corresponding Description cabinet office spend)"
   ]
  },
  {
   "cell_type": "markdown",
   "metadata": {},
   "source": [
    "- PAUSE CREATING SPACE FOR CHANGE: £66,667.50 (68.97% of corresponding spend)"
   ]
  },
  {
   "cell_type": "markdown",
   "metadata": {},
   "source": [
    "- SOCIAL ENTERPRISE UK: £30,000.00 (31.03% of corresponding spend)"
   ]
  },
  {
   "cell_type": "markdown",
   "metadata": {
    "slideshow": {
     "slide_type": "slide"
    }
   },
   "source": [
    "## Major Monthly Spend by Expense Area: GRANT"
   ]
  },
  {
   "cell_type": "markdown",
   "metadata": {
    "slideshow": {
     "slide_type": "fragment"
    }
   },
   "source": [
    "### CABINET OFFICE (100.00% of Description total, 0.46% of Cabinet Office total)"
   ]
  },
  {
   "cell_type": "markdown",
   "metadata": {},
   "source": [
    "- PROGRAMME & STRATEGY OFFICE: £66,667.50 (68.97% of corresponding Description cabinet office spend)"
   ]
  },
  {
   "cell_type": "markdown",
   "metadata": {},
   "source": [
    "- TECHNICAL ASSISTANCE: £30,000.00 (31.03% of corresponding Description cabinet office spend)"
   ]
  },
  {
   "cell_type": "markdown",
   "metadata": {
    "slideshow": {
     "slide_type": "subslide"
    }
   },
   "source": [
    "## GRANT - PROGRAMME & STRATEGY OFFICE (CABINET OFFICE)  Major Suppliers"
   ]
  },
  {
   "cell_type": "markdown",
   "metadata": {},
   "source": [
    "Overall, this Expense Area accounts for __£66,667.50__ (68.97% of corresponding Description cabinet office spend)"
   ]
  },
  {
   "cell_type": "markdown",
   "metadata": {},
   "source": [
    "- PAUSE CREATING SPACE FOR CHANGE: £66,667.50 (100.00% of corresponding spend)"
   ]
  },
  {
   "cell_type": "markdown",
   "metadata": {
    "slideshow": {
     "slide_type": "subslide"
    }
   },
   "source": [
    "## GRANT - TECHNICAL ASSISTANCE (CABINET OFFICE)  Major Suppliers"
   ]
  },
  {
   "cell_type": "markdown",
   "metadata": {},
   "source": [
    "Overall, this Expense Area accounts for __£30,000.00__ (31.03% of corresponding Description cabinet office spend)"
   ]
  },
  {
   "cell_type": "markdown",
   "metadata": {},
   "source": [
    "- SOCIAL ENTERPRISE UK: £30,000.00 (100.00% of corresponding spend)"
   ]
  },
  {
   "cell_type": "markdown",
   "metadata": {
    "slideshow": {
     "slide_type": "slide"
    }
   },
   "source": [
    "## Major Monthly Spends  - TELECOMMUNICATION SERVICES"
   ]
  },
  {
   "cell_type": "markdown",
   "metadata": {},
   "source": [
    "Total spend: £83,592.42 (0.40% of total Cabinet Office monthly spend)\n"
   ]
  },
  {
   "cell_type": "markdown",
   "metadata": {},
   "source": [
    "- CABINET OFFICE: £83,592.42 (100.00% of Description total, 0.40% of Cabinet Office total)"
   ]
  },
  {
   "cell_type": "markdown",
   "metadata": {
    "slideshow": {
     "slide_type": "slide"
    }
   },
   "source": [
    "## Major Monthly Spend by Expense Type: TELECOMMUNICATION SERVICES"
   ]
  },
  {
   "cell_type": "markdown",
   "metadata": {
    "slideshow": {
     "slide_type": "fragment"
    }
   },
   "source": [
    "### CABINET OFFICE (100.00% of Description total, 0.40% of Cabinet Office total)"
   ]
  },
  {
   "cell_type": "markdown",
   "metadata": {},
   "source": [
    "- TELECOM RENTALS: £83,592.42 (100.00% of corresponding Description cabinet office spend)"
   ]
  },
  {
   "cell_type": "markdown",
   "metadata": {
    "slideshow": {
     "slide_type": "subslide"
    }
   },
   "source": [
    "## TELECOMMUNICATION SERVICES - TELECOM RENTALS (CABINET OFFICE)  Major Suppliers"
   ]
  },
  {
   "cell_type": "markdown",
   "metadata": {},
   "source": [
    "Overall, this Expense Type accounts for __£83,592.42__ (100.00% of corresponding Description cabinet office spend)"
   ]
  },
  {
   "cell_type": "markdown",
   "metadata": {},
   "source": [
    "- BT: £83,592.42 (100.00% of corresponding spend)"
   ]
  },
  {
   "cell_type": "markdown",
   "metadata": {
    "slideshow": {
     "slide_type": "slide"
    }
   },
   "source": [
    "## Major Monthly Spend by Expense Area: TELECOMMUNICATION SERVICES"
   ]
  },
  {
   "cell_type": "markdown",
   "metadata": {
    "slideshow": {
     "slide_type": "fragment"
    }
   },
   "source": [
    "### CABINET OFFICE (100.00% of Description total, 0.40% of Cabinet Office total)"
   ]
  },
  {
   "cell_type": "markdown",
   "metadata": {},
   "source": [
    "- PMO ICTS: £83,592.42 (100.00% of corresponding Description cabinet office spend)"
   ]
  },
  {
   "cell_type": "markdown",
   "metadata": {
    "slideshow": {
     "slide_type": "subslide"
    }
   },
   "source": [
    "## TELECOMMUNICATION SERVICES - PMO ICTS (CABINET OFFICE)  Major Suppliers"
   ]
  },
  {
   "cell_type": "markdown",
   "metadata": {},
   "source": [
    "Overall, this Expense Area accounts for __£83,592.42__ (100.00% of corresponding Description cabinet office spend)"
   ]
  },
  {
   "cell_type": "markdown",
   "metadata": {},
   "source": [
    "- BT: £83,592.42 (100.00% of corresponding spend)"
   ]
  },
  {
   "cell_type": "markdown",
   "metadata": {
    "slideshow": {
     "slide_type": "slide"
    }
   },
   "source": [
    "## Major Monthly Spends  - SOFTWARE LICENCE"
   ]
  },
  {
   "cell_type": "markdown",
   "metadata": {},
   "source": [
    "Total spend: £64,818.00 (0.31% of total Cabinet Office monthly spend)\n"
   ]
  },
  {
   "cell_type": "markdown",
   "metadata": {},
   "source": [
    "- CABINET OFFICE: £64,818.00 (100.00% of Description total, 0.31% of Cabinet Office total)"
   ]
  },
  {
   "cell_type": "markdown",
   "metadata": {
    "slideshow": {
     "slide_type": "slide"
    }
   },
   "source": [
    "## Major Monthly Spend by Expense Type: SOFTWARE LICENCE"
   ]
  },
  {
   "cell_type": "markdown",
   "metadata": {
    "slideshow": {
     "slide_type": "fragment"
    }
   },
   "source": [
    "### CABINET OFFICE (100.00% of Description total, 0.31% of Cabinet Office total)"
   ]
  },
  {
   "cell_type": "markdown",
   "metadata": {},
   "source": [
    "- OTHER IS IT COSTS VAT RECOV: £64,818.00 (100.00% of corresponding Description cabinet office spend)"
   ]
  },
  {
   "cell_type": "markdown",
   "metadata": {
    "slideshow": {
     "slide_type": "subslide"
    }
   },
   "source": [
    "## SOFTWARE LICENCE - OTHER IS IT COSTS VAT RECOV (CABINET OFFICE)  Major Suppliers"
   ]
  },
  {
   "cell_type": "markdown",
   "metadata": {},
   "source": [
    "Overall, this Expense Type accounts for __£64,818.00__ (100.00% of corresponding Description cabinet office spend)"
   ]
  },
  {
   "cell_type": "markdown",
   "metadata": {},
   "source": [
    "- MEKON LTD: £64,818.00 (100.00% of corresponding spend)"
   ]
  },
  {
   "cell_type": "markdown",
   "metadata": {
    "slideshow": {
     "slide_type": "slide"
    }
   },
   "source": [
    "## Major Monthly Spend by Expense Area: SOFTWARE LICENCE"
   ]
  },
  {
   "cell_type": "markdown",
   "metadata": {
    "slideshow": {
     "slide_type": "fragment"
    }
   },
   "source": [
    "### CABINET OFFICE (100.00% of Description total, 0.31% of Cabinet Office total)"
   ]
  },
  {
   "cell_type": "markdown",
   "metadata": {},
   "source": [
    "- COUNSEL: £64,818.00 (100.00% of corresponding Description cabinet office spend)"
   ]
  },
  {
   "cell_type": "markdown",
   "metadata": {
    "slideshow": {
     "slide_type": "subslide"
    }
   },
   "source": [
    "## SOFTWARE LICENCE - COUNSEL (CABINET OFFICE)  Major Suppliers"
   ]
  },
  {
   "cell_type": "markdown",
   "metadata": {},
   "source": [
    "Overall, this Expense Area accounts for __£64,818.00__ (100.00% of corresponding Description cabinet office spend)"
   ]
  },
  {
   "cell_type": "markdown",
   "metadata": {},
   "source": [
    "- MEKON LTD: £64,818.00 (100.00% of corresponding spend)"
   ]
  },
  {
   "cell_type": "markdown",
   "metadata": {
    "slideshow": {
     "slide_type": "slide"
    }
   },
   "source": [
    "## Major Monthly Spends  - FACILITIES MANAGEMENT SERVICES"
   ]
  },
  {
   "cell_type": "markdown",
   "metadata": {},
   "source": [
    "Total spend: £48,315.03 (0.23% of total Cabinet Office monthly spend)\n"
   ]
  },
  {
   "cell_type": "markdown",
   "metadata": {},
   "source": [
    "- CABINET OFFICE: £48,315.03 (100.00% of Description total, 0.23% of Cabinet Office total)"
   ]
  },
  {
   "cell_type": "markdown",
   "metadata": {
    "slideshow": {
     "slide_type": "slide"
    }
   },
   "source": [
    "## Major Monthly Spend by Expense Type: FACILITIES MANAGEMENT SERVICES"
   ]
  },
  {
   "cell_type": "markdown",
   "metadata": {
    "slideshow": {
     "slide_type": "fragment"
    }
   },
   "source": [
    "### CABINET OFFICE (100.00% of Description total, 0.23% of Cabinet Office total)"
   ]
  },
  {
   "cell_type": "markdown",
   "metadata": {},
   "source": [
    "- NON PRIME UTILITIES: £48,315.03 (100.00% of corresponding Description cabinet office spend)"
   ]
  },
  {
   "cell_type": "markdown",
   "metadata": {
    "slideshow": {
     "slide_type": "subslide"
    }
   },
   "source": [
    "## FACILITIES MANAGEMENT SERVICES - NON PRIME UTILITIES (CABINET OFFICE)  Major Suppliers"
   ]
  },
  {
   "cell_type": "markdown",
   "metadata": {},
   "source": [
    "Overall, this Expense Type accounts for __£48,315.03__ (100.00% of corresponding Description cabinet office spend)"
   ]
  },
  {
   "cell_type": "markdown",
   "metadata": {},
   "source": [
    "- BOUYGUES E&S FM UK LTD: £48,315.03 (100.00% of corresponding spend)"
   ]
  },
  {
   "cell_type": "markdown",
   "metadata": {
    "slideshow": {
     "slide_type": "slide"
    }
   },
   "source": [
    "## Major Monthly Spend by Expense Area: FACILITIES MANAGEMENT SERVICES"
   ]
  },
  {
   "cell_type": "markdown",
   "metadata": {
    "slideshow": {
     "slide_type": "fragment"
    }
   },
   "source": [
    "### CABINET OFFICE (100.00% of Description total, 0.23% of Cabinet Office total)"
   ]
  },
  {
   "cell_type": "markdown",
   "metadata": {},
   "source": [
    "- FEM MISC: £48,315.03 (100.00% of corresponding Description cabinet office spend)"
   ]
  },
  {
   "cell_type": "markdown",
   "metadata": {
    "slideshow": {
     "slide_type": "subslide"
    }
   },
   "source": [
    "## FACILITIES MANAGEMENT SERVICES - FEM MISC (CABINET OFFICE)  Major Suppliers"
   ]
  },
  {
   "cell_type": "markdown",
   "metadata": {},
   "source": [
    "Overall, this Expense Area accounts for __£48,315.03__ (100.00% of corresponding Description cabinet office spend)"
   ]
  },
  {
   "cell_type": "markdown",
   "metadata": {},
   "source": [
    "- BOUYGUES E&S FM UK LTD: £48,315.03 (100.00% of corresponding spend)"
   ]
  },
  {
   "cell_type": "markdown",
   "metadata": {
    "slideshow": {
     "slide_type": "slide"
    }
   },
   "source": [
    "## Major Monthly Spends  - ADMINISTRATION"
   ]
  },
  {
   "cell_type": "markdown",
   "metadata": {},
   "source": [
    "Total spend: £45,400.00 (0.22% of total Cabinet Office monthly spend)\n"
   ]
  },
  {
   "cell_type": "markdown",
   "metadata": {},
   "source": [
    "- CABINET OFFICE: £45,400.00 (100.00% of Description total, 0.22% of Cabinet Office total)"
   ]
  },
  {
   "cell_type": "markdown",
   "metadata": {
    "slideshow": {
     "slide_type": "slide"
    }
   },
   "source": [
    "## Major Monthly Spend by Expense Type: ADMINISTRATION"
   ]
  },
  {
   "cell_type": "markdown",
   "metadata": {
    "slideshow": {
     "slide_type": "fragment"
    }
   },
   "source": [
    "### CABINET OFFICE (100.00% of Description total, 0.22% of Cabinet Office total)"
   ]
  },
  {
   "cell_type": "markdown",
   "metadata": {},
   "source": [
    "- STAFF RELATED COSTS VAT RECOVERABLE: £45,400.00 (100.00% of corresponding Description cabinet office spend)"
   ]
  },
  {
   "cell_type": "markdown",
   "metadata": {
    "slideshow": {
     "slide_type": "subslide"
    }
   },
   "source": [
    "## ADMINISTRATION - STAFF RELATED COSTS VAT RECOVERABLE (CABINET OFFICE)  Major Suppliers"
   ]
  },
  {
   "cell_type": "markdown",
   "metadata": {},
   "source": [
    "Overall, this Expense Type accounts for __£45,400.00__ (100.00% of corresponding Description cabinet office spend)"
   ]
  },
  {
   "cell_type": "markdown",
   "metadata": {},
   "source": [
    "- HMRC: £45,400.00 (100.00% of corresponding spend)"
   ]
  },
  {
   "cell_type": "markdown",
   "metadata": {
    "slideshow": {
     "slide_type": "slide"
    }
   },
   "source": [
    "## Major Monthly Spend by Expense Area: ADMINISTRATION"
   ]
  },
  {
   "cell_type": "markdown",
   "metadata": {
    "slideshow": {
     "slide_type": "fragment"
    }
   },
   "source": [
    "### CABINET OFFICE (100.00% of Description total, 0.22% of Cabinet Office total)"
   ]
  },
  {
   "cell_type": "markdown",
   "metadata": {},
   "source": [
    "- FAST STREAM COSTS CS RESOURCING: £45,400.00 (100.00% of corresponding Description cabinet office spend)"
   ]
  },
  {
   "cell_type": "markdown",
   "metadata": {
    "slideshow": {
     "slide_type": "subslide"
    }
   },
   "source": [
    "## ADMINISTRATION - FAST STREAM COSTS CS RESOURCING (CABINET OFFICE)  Major Suppliers"
   ]
  },
  {
   "cell_type": "markdown",
   "metadata": {},
   "source": [
    "Overall, this Expense Area accounts for __£45,400.00__ (100.00% of corresponding Description cabinet office spend)"
   ]
  },
  {
   "cell_type": "markdown",
   "metadata": {},
   "source": [
    "- HMRC: £45,400.00 (100.00% of corresponding spend)"
   ]
  },
  {
   "cell_type": "markdown",
   "metadata": {
    "slideshow": {
     "slide_type": "slide"
    }
   },
   "source": [
    "## Major Monthly Spends  - ELECTION EXPENSE"
   ]
  },
  {
   "cell_type": "markdown",
   "metadata": {},
   "source": [
    "Total spend: £39,639.28 (0.19% of total Cabinet Office monthly spend)\n"
   ]
  },
  {
   "cell_type": "markdown",
   "metadata": {},
   "source": [
    "- CABINET OFFICE: £39,639.28 (100.00% of Description total, 0.19% of Cabinet Office total)"
   ]
  },
  {
   "cell_type": "markdown",
   "metadata": {
    "slideshow": {
     "slide_type": "slide"
    }
   },
   "source": [
    "## Major Monthly Spend by Expense Type: ELECTION EXPENSE"
   ]
  },
  {
   "cell_type": "markdown",
   "metadata": {
    "slideshow": {
     "slide_type": "fragment"
    }
   },
   "source": [
    "### CABINET OFFICE (100.00% of Description total, 0.19% of Cabinet Office total)"
   ]
  },
  {
   "cell_type": "markdown",
   "metadata": {},
   "source": [
    "- ELECTIONS-INITIAL ADVANCE: £39,639.28 (100.00% of corresponding Description cabinet office spend)"
   ]
  },
  {
   "cell_type": "markdown",
   "metadata": {
    "slideshow": {
     "slide_type": "subslide"
    }
   },
   "source": [
    "## ELECTION EXPENSE - ELECTIONS-INITIAL ADVANCE (CABINET OFFICE)  Major Suppliers"
   ]
  },
  {
   "cell_type": "markdown",
   "metadata": {},
   "source": [
    "Overall, this Expense Type accounts for __£39,639.28__ (100.00% of corresponding Description cabinet office spend)"
   ]
  },
  {
   "cell_type": "markdown",
   "metadata": {},
   "source": [
    "- BOLSOVER DISTRICT COUNCIL: £39,639.28 (100.00% of corresponding spend)"
   ]
  },
  {
   "cell_type": "markdown",
   "metadata": {
    "slideshow": {
     "slide_type": "slide"
    }
   },
   "source": [
    "## Major Monthly Spend by Expense Area: ELECTION EXPENSE"
   ]
  },
  {
   "cell_type": "markdown",
   "metadata": {
    "slideshow": {
     "slide_type": "fragment"
    }
   },
   "source": [
    "### CABINET OFFICE (100.00% of Description total, 0.19% of Cabinet Office total)"
   ]
  },
  {
   "cell_type": "markdown",
   "metadata": {},
   "source": [
    "- E93357 WESTMINSTER: £39,639.28 (100.00% of corresponding Description cabinet office spend)"
   ]
  },
  {
   "cell_type": "markdown",
   "metadata": {
    "slideshow": {
     "slide_type": "subslide"
    }
   },
   "source": [
    "## ELECTION EXPENSE - E93357 WESTMINSTER (CABINET OFFICE)  Major Suppliers"
   ]
  },
  {
   "cell_type": "markdown",
   "metadata": {},
   "source": [
    "Overall, this Expense Area accounts for __£39,639.28__ (100.00% of corresponding Description cabinet office spend)"
   ]
  },
  {
   "cell_type": "markdown",
   "metadata": {},
   "source": [
    "- BOLSOVER DISTRICT COUNCIL: £39,639.28 (100.00% of corresponding spend)"
   ]
  },
  {
   "cell_type": "markdown",
   "metadata": {
    "slideshow": {
     "slide_type": "slide"
    }
   },
   "source": [
    "## Major Monthly Spends  - CHILDCARE VOUCHERS"
   ]
  },
  {
   "cell_type": "markdown",
   "metadata": {},
   "source": [
    "Total spend: £32,046.17 (0.15% of total Cabinet Office monthly spend)\n"
   ]
  },
  {
   "cell_type": "markdown",
   "metadata": {},
   "source": [
    "- CABINET OFFICE: £32,046.17 (100.00% of Description total, 0.15% of Cabinet Office total)"
   ]
  },
  {
   "cell_type": "markdown",
   "metadata": {
    "slideshow": {
     "slide_type": "slide"
    }
   },
   "source": [
    "## Major Monthly Spend by Expense Type: CHILDCARE VOUCHERS"
   ]
  },
  {
   "cell_type": "markdown",
   "metadata": {
    "slideshow": {
     "slide_type": "fragment"
    }
   },
   "source": [
    "### CABINET OFFICE (100.00% of Description total, 0.15% of Cabinet Office total)"
   ]
  },
  {
   "cell_type": "markdown",
   "metadata": {},
   "source": [
    "- CHILDCARE VOUCHERS: £32,046.17 (100.00% of corresponding Description cabinet office spend)"
   ]
  },
  {
   "cell_type": "markdown",
   "metadata": {
    "slideshow": {
     "slide_type": "subslide"
    }
   },
   "source": [
    "## CHILDCARE VOUCHERS - CHILDCARE VOUCHERS (CABINET OFFICE)  Major Suppliers"
   ]
  },
  {
   "cell_type": "markdown",
   "metadata": {},
   "source": [
    "Overall, this Expense Type accounts for __£32,046.17__ (100.00% of corresponding Description cabinet office spend)"
   ]
  },
  {
   "cell_type": "markdown",
   "metadata": {},
   "source": [
    "- ACCOR TA EDENRED: £32,046.17 (100.00% of corresponding spend)"
   ]
  },
  {
   "cell_type": "markdown",
   "metadata": {
    "slideshow": {
     "slide_type": "slide"
    }
   },
   "source": [
    "## Major Monthly Spend by Expense Area: CHILDCARE VOUCHERS"
   ]
  },
  {
   "cell_type": "markdown",
   "metadata": {
    "slideshow": {
     "slide_type": "fragment"
    }
   },
   "source": [
    "### CABINET OFFICE (100.00% of Description total, 0.15% of Cabinet Office total)"
   ]
  },
  {
   "cell_type": "markdown",
   "metadata": {},
   "source": [
    "- HR REWARD AND EMPLOYEE RELATIONS TEAM: £32,046.17 (100.00% of corresponding Description cabinet office spend)"
   ]
  },
  {
   "cell_type": "markdown",
   "metadata": {
    "slideshow": {
     "slide_type": "subslide"
    }
   },
   "source": [
    "## CHILDCARE VOUCHERS - HR REWARD AND EMPLOYEE RELATIONS TEAM (CABINET OFFICE)  Major Suppliers"
   ]
  },
  {
   "cell_type": "markdown",
   "metadata": {},
   "source": [
    "Overall, this Expense Area accounts for __£32,046.17__ (100.00% of corresponding Description cabinet office spend)"
   ]
  },
  {
   "cell_type": "markdown",
   "metadata": {},
   "source": [
    "- ACCOR TA EDENRED: £32,046.17 (100.00% of corresponding spend)"
   ]
  },
  {
   "cell_type": "markdown",
   "metadata": {
    "slideshow": {
     "slide_type": "slide"
    }
   },
   "source": [
    "## Major Monthly Spends  - PRINTING SERVICES"
   ]
  },
  {
   "cell_type": "markdown",
   "metadata": {},
   "source": [
    "Total spend: £27,194.94 (0.13% of total Cabinet Office monthly spend)\n"
   ]
  },
  {
   "cell_type": "markdown",
   "metadata": {},
   "source": [
    "- CABINET OFFICE: £27,194.94 (100.00% of Description total, 0.13% of Cabinet Office total)"
   ]
  },
  {
   "cell_type": "markdown",
   "metadata": {
    "slideshow": {
     "slide_type": "slide"
    }
   },
   "source": [
    "## Major Monthly Spend by Expense Type: PRINTING SERVICES"
   ]
  },
  {
   "cell_type": "markdown",
   "metadata": {
    "slideshow": {
     "slide_type": "fragment"
    }
   },
   "source": [
    "### CABINET OFFICE (100.00% of Description total, 0.13% of Cabinet Office total)"
   ]
  },
  {
   "cell_type": "markdown",
   "metadata": {},
   "source": [
    "- PRINT SERVICES: £27,194.94 (100.00% of corresponding Description cabinet office spend)"
   ]
  },
  {
   "cell_type": "markdown",
   "metadata": {
    "slideshow": {
     "slide_type": "subslide"
    }
   },
   "source": [
    "## PRINTING SERVICES - PRINT SERVICES (CABINET OFFICE)  Major Suppliers"
   ]
  },
  {
   "cell_type": "markdown",
   "metadata": {},
   "source": [
    "Overall, this Expense Type accounts for __£27,194.94__ (100.00% of corresponding Description cabinet office spend)"
   ]
  },
  {
   "cell_type": "markdown",
   "metadata": {},
   "source": [
    "- RICOH UK LTD: £27,194.94 (100.00% of corresponding spend)"
   ]
  },
  {
   "cell_type": "markdown",
   "metadata": {
    "slideshow": {
     "slide_type": "slide"
    }
   },
   "source": [
    "## Major Monthly Spend by Expense Area: PRINTING SERVICES"
   ]
  },
  {
   "cell_type": "markdown",
   "metadata": {
    "slideshow": {
     "slide_type": "fragment"
    }
   },
   "source": [
    "### CABINET OFFICE (100.00% of Description total, 0.13% of Cabinet Office total)"
   ]
  },
  {
   "cell_type": "markdown",
   "metadata": {},
   "source": [
    "- CABINET OFFICE REPROGRAPHICS (EX GCDA): £27,194.94 (100.00% of corresponding Description cabinet office spend)"
   ]
  },
  {
   "cell_type": "markdown",
   "metadata": {
    "slideshow": {
     "slide_type": "subslide"
    }
   },
   "source": [
    "## PRINTING SERVICES - CABINET OFFICE REPROGRAPHICS (EX GCDA) (CABINET OFFICE)  Major Suppliers"
   ]
  },
  {
   "cell_type": "markdown",
   "metadata": {},
   "source": [
    "Overall, this Expense Area accounts for __£27,194.94__ (100.00% of corresponding Description cabinet office spend)"
   ]
  },
  {
   "cell_type": "markdown",
   "metadata": {},
   "source": [
    "- RICOH UK LTD: £27,194.94 (100.00% of corresponding spend)"
   ]
  }
 ],
 "metadata": {},
 "nbformat": 4,
 "nbformat_minor": 0
}
